{
  "nbformat": 4,
  "nbformat_minor": 0,
  "metadata": {
    "colab": {
      "name": "Final project",
      "version": "0.3.2",
      "provenance": [],
      "collapsed_sections": [],
      "toc_visible": true,
      "include_colab_link": true
    },
    "kernelspec": {
      "name": "python3",
      "display_name": "Python 3"
    }
  },
  "cells": [
    {
      "cell_type": "markdown",
      "metadata": {
        "id": "view-in-github",
        "colab_type": "text"
      },
      "source": [
        "<a href=\"https://colab.research.google.com/github/marjoriecrowell/Data-mgmt/blob/master/Final_project.ipynb\" target=\"_parent\"><img src=\"https://colab.research.google.com/assets/colab-badge.svg\" alt=\"Open In Colab\"/></a>"
      ]
    },
    {
      "metadata": {
        "id": "tfNWsZNVdyMd",
        "colab_type": "text"
      },
      "cell_type": "markdown",
      "source": [
        " # Final project\n",
        "\n",
        "Steps in analysis:\n",
        "* Compile data sources\n",
        "* Reshape (as needed)"
      ]
    },
    {
      "metadata": {
        "id": "hGH4XkuD3y8A",
        "colab_type": "text"
      },
      "cell_type": "markdown",
      "source": [
        "# Datasets and remaining todos\n",
        "\n",
        "* CPCs - split up city, state, zip\n",
        "* Facility regulations - a lot of cleaning"
      ]
    },
    {
      "metadata": {
        "id": "Xd4RdXQxhwdV",
        "colab_type": "text"
      },
      "cell_type": "markdown",
      "source": [
        "## Research Question\n",
        "\n",
        "My research question is:\n",
        "\n",
        "How is the number of crisis pregnancy centers in a state affected by abortion provision within the state, health care coverage, and political demographic factors?\n",
        "\n",
        "I will measure abortion provision by looking at the number of abortion providers within the state and the restrictions on abortion provision within the state.\n",
        "\n",
        "I will measure health care coverage by looking at the proportion uninsured and whether or not the state has expanded Medicaid. \n",
        "\n",
        "My political demographic factors will include voting in the 2016 presidential election and a dataset on poverty within the state.\n",
        "\n"
      ]
    },
    {
      "metadata": {
        "id": "_CCJp8tF5P7h",
        "colab_type": "text"
      },
      "cell_type": "markdown",
      "source": [
        "## Workflow diagram"
      ]
    },
    {
      "metadata": {
        "id": "spCXFnoUhyea",
        "colab_type": "text"
      },
      "cell_type": "markdown",
      "source": [
        "## Gathering data to address research question"
      ]
    },
    {
      "metadata": {
        "id": "spUPEjhBvykE",
        "colab_type": "text"
      },
      "cell_type": "markdown",
      "source": [
        "### Dependent variable: number of crisis pregnancy centers in a state\n",
        "\n",
        "My first dataset will be the number of crisis pregnancy centers within a state, using a dataset from Reproaction.\n",
        "\n",
        "As a note, on this dataset, I had to remove some notes from the first few columns for the data to be read successfully by pandas, which I did on the back end.\n",
        "\n",
        "I also had to separate city, state, and zip (I only kept the state) and sum the number of unique CPCs by state, since the number by state is my dependent variable"
      ]
    },
    {
      "metadata": {
        "id": "XkqoljqP3_CV",
        "colab_type": "text"
      },
      "cell_type": "markdown",
      "source": [
        "#### Importing dataset [cpcs]"
      ]
    },
    {
      "metadata": {
        "id": "bpuosbevdOS_",
        "colab_type": "code",
        "outputId": "8d3e6bbe-6845-405a-cbbc-3978cf45f7bd",
        "colab": {
          "base_uri": "https://localhost:8080/",
          "height": 1471
        }
      },
      "cell_type": "code",
      "source": [
        "# I need pandas to re-work the dataset\n",
        "import pandas as pd\n",
        "\n",
        "#loading in dataset\n",
        "cpcs = pd.read_csv(\"CPCdatabase.csv\")\n",
        "\n",
        "# I want to check the first and last 10 records and the column values\n",
        "print(\"1. Getting first 5 records\")\n",
        "print(cpcs.head(5))\n",
        "\n",
        "print(\"2. Getting last 5 records\")\n",
        "print(cpcs.tail(5))\n",
        "\n",
        "print(\"3. Get column values\")\n",
        "print(cpcs.columns)\n",
        "print(list(cpcs))\n",
        "\n",
        "cpcs.to_csv(\"cpcs.csv\")\n",
        "                       "
      ],
      "execution_count": 52,
      "outputs": [
        {
          "output_type": "stream",
          "text": [
            "1. Getting first 5 records\n",
            "                             Crisis Pregnancy Center  \\\n",
            "0           REAL LIFE PREGNANCY CENTER - ALBERTVILLE   \n",
            "1                    SAV-A-LIFE OF TALLAPOOSA COUNTY   \n",
            "2  SAV-A-LIFE FAMILY HOPE CENTER OF COVINGTON COU...   \n",
            "3                            HOPE WOMEN'S SERVICES     \n",
            "4                            WOMEN'S RESOURCE CENTER   \n",
            "\n",
            "                          Street Address     City, State, Zip Code  \\\n",
            "0       104 West Alabama Avenue, Suite F    Albertville, AL, 35950   \n",
            "1                    11 Lafayette Street  Alexander City, AL 35010   \n",
            "2  1835 East Three Notch Street, Suite D       Andalusia, AL 36420   \n",
            "3          1506 Leighton Avenue, Suite A        Anniston, AL 36207   \n",
            "4               206 South Madison Street          Athens, AL 35612   \n",
            "\n",
            "               Affiliation                                            Website  \\\n",
            "0                 Care Net                        http://www.reallifecpc.org/   \n",
            "1                 Care Net                         http://www.acsavalife.com/   \n",
            "2                 Care Net                        http://www.savalifefhc.com/   \n",
            "3  Heartbeat International  http://hopewomensservices.com/HOPE_Womens_Serv...   \n",
            "4                 Care Net                     http://www.savalifeathens.org/   \n",
            "\n",
            "                                   Facebook  \\\n",
            "0                                       NaN   \n",
            "1                                       NaN   \n",
            "2     https://www.facebook.com/savalifefhc/   \n",
            "3                                       NaN   \n",
            "4  https://www.facebook.com/athensALcenter/   \n",
            "\n",
            "                              Twitter  Google+ YouTube Pinterest InstaGram  \\\n",
            "0                                 NaN      NaN     NaN       NaN       NaN   \n",
            "1                                 NaN      NaN     NaN       NaN       NaN   \n",
            "2                                 NaN      NaN     NaN       NaN       NaN   \n",
            "3                                 NaN      NaN     NaN       NaN       NaN   \n",
            "4  https://twitter.com/athensalcenter      NaN     NaN       NaN       NaN   \n",
            "\n",
            "   LinkedIn  Unnamed: 12  Unnamed: 13  \n",
            "0       NaN          NaN          NaN  \n",
            "1       NaN          NaN          NaN  \n",
            "2       NaN          NaN          NaN  \n",
            "3       NaN          NaN          NaN  \n",
            "4       NaN          NaN          NaN  \n",
            "2. Getting last 5 records\n",
            "      Crisis Pregnancy Center       Street Address   City, State, Zip Code  \\\n",
            "2627        INSIDE CONNECTION  2712 Commercial Way  Rock Springs, WY 82901   \n",
            "2628  LEGACY PREGNANCY CENTER   847 Coffeen Avenue      Sheridan, WY 82801   \n",
            "2629                      NaN                  NaN                     NaN   \n",
            "2630                      NaN                  NaN                     NaN   \n",
            "2631                      NaN                  NaN                     NaN   \n",
            "\n",
            "                  Affiliation                           Website  \\\n",
            "2627  Heartbeat International  http://www.insideconnection.org/   \n",
            "2628                 Care Net       http://legacypregnancy.org/   \n",
            "2629                      NaN                               NaN   \n",
            "2630                      NaN                               NaN   \n",
            "2631                      NaN                               NaN   \n",
            "\n",
            "                                    Facebook Twitter  Google+ YouTube  \\\n",
            "2627                                     NaN     NaN      NaN     NaN   \n",
            "2628  https://www.facebook.com/legacydonors/     NaN      NaN     NaN   \n",
            "2629                                     NaN     NaN      NaN     NaN   \n",
            "2630                                     NaN     NaN      NaN     NaN   \n",
            "2631                                     NaN     NaN      NaN     NaN   \n",
            "\n",
            "     Pinterest                                   InstaGram  LinkedIn  \\\n",
            "2627       NaN                                         NaN       NaN   \n",
            "2628       NaN  https://www.instagram.com/legacypregnancy/       NaN   \n",
            "2629       NaN                                         NaN       NaN   \n",
            "2630       NaN                                         NaN       NaN   \n",
            "2631       NaN                                         NaN       NaN   \n",
            "\n",
            "      Unnamed: 12  Unnamed: 13  \n",
            "2627          NaN          NaN  \n",
            "2628          NaN          NaN  \n",
            "2629          NaN          NaN  \n",
            "2630          NaN          NaN  \n",
            "2631          NaN          NaN  \n",
            "3. Get column values\n",
            "Index(['Crisis Pregnancy Center', 'Street Address', 'City, State, Zip Code',\n",
            "       'Affiliation', 'Website', 'Facebook', 'Twitter', 'Google+', 'YouTube',\n",
            "       'Pinterest', 'InstaGram', 'LinkedIn', 'Unnamed: 12', 'Unnamed: 13'],\n",
            "      dtype='object')\n",
            "['Crisis Pregnancy Center', 'Street Address', 'City, State, Zip Code', 'Affiliation', 'Website', 'Facebook', 'Twitter', 'Google+', 'YouTube', 'Pinterest', 'InstaGram', 'LinkedIn', 'Unnamed: 12', 'Unnamed: 13']\n"
          ],
          "name": "stdout"
        }
      ]
    },
    {
      "metadata": {
        "id": "fO_5tSOr4Dvg",
        "colab_type": "text"
      },
      "cell_type": "markdown",
      "source": [
        "#### Cleaning dataset"
      ]
    },
    {
      "metadata": {
        "id": "oRXKtL2ndkb1",
        "colab_type": "code",
        "outputId": "f95b975a-cf03-4663-cb6c-f1dba8993a28",
        "colab": {
          "base_uri": "https://localhost:8080/",
          "height": 225
        }
      },
      "cell_type": "code",
      "source": [
        "# # There are columns in there I don't need - blanks and social media links \n",
        "print(\"1. Getting rid of last 11 columns\")\n",
        "cpcs = cpcs.drop(cpcs.columns[[1, 3, 4, 5, 6, 7, 8, 9, 10, 11, 12, 13]], axis=1)\n",
        "\n",
        "print(\"2. Get column values\")\n",
        "print(cpcs.columns)\n",
        "print(list(cpcs))\n",
        "\n",
        "print(\"3. Get rid of 3 blank rows at end\")\n",
        "cpcs.drop(cpcs.tail(3).index,inplace=True)\n",
        "\n",
        "\n",
        "print(\"4. Getting last 5 records\")\n",
        "print(cpcs.tail(5))"
      ],
      "execution_count": 53,
      "outputs": [
        {
          "output_type": "stream",
          "text": [
            "1. Getting rid of last 11 columns\n",
            "2. Get column values\n",
            "Index(['Crisis Pregnancy Center', 'City, State, Zip Code'], dtype='object')\n",
            "['Crisis Pregnancy Center', 'City, State, Zip Code']\n",
            "3. Get rid of 3 blank rows at end\n",
            "4. Getting last 5 records\n",
            "                    Crisis Pregnancy Center   City, State, Zip Code\n",
            "2624        HEART TO HEART PREGNANCY CENTER       Laramie, WY 82072\n",
            "2625                        THE FAMILY TREE      Pinedale, WY 82941\n",
            "2626  ABBA'S HOUSE PREGNANCY MEDICAL CLINIC     Rivertown, WY 82501\n",
            "2627                      INSIDE CONNECTION  Rock Springs, WY 82901\n",
            "2628                LEGACY PREGNANCY CENTER      Sheridan, WY 82801\n"
          ],
          "name": "stdout"
        }
      ]
    },
    {
      "metadata": {
        "id": "ZncqgoLBK6H4",
        "colab_type": "text"
      },
      "cell_type": "markdown",
      "source": [
        "###### City, state, zip - splitting"
      ]
    },
    {
      "metadata": {
        "id": "d4Qhz74KGcJp",
        "colab_type": "code",
        "colab": {
          "base_uri": "https://localhost:8080/",
          "height": 345
        },
        "outputId": "8d0e51c6-fb2f-40c7-a42f-086f2a866096"
      },
      "cell_type": "code",
      "source": [
        "print(\"1. Cleaning up 'city, state, zip' column\") \n",
        "# I need to rework this dataset - the city, state, and zip are all in one cell\n",
        "# one attempt from stack overflow: \n",
        "cpcs[\"City, State, Zip Code\"]=cpcs[\"City, State, Zip Code\"].str.split(', ').apply(lambda x: x[1])\n",
        "cpcs[\"City, State, Zip Code\"]=cpcs[\"City, State, Zip Code\"].str.split(' ').apply(lambda x: x[0])\n",
        "\n",
        "print(\"2. Checking last 10 records\")\n",
        "print(cpcs.tail())\n",
        "\n",
        "print(\"3. Checking first 10 records\")\n",
        "print(cpcs.head())\n",
        "\n",
        "print(\"4. Renaming columns\")\n",
        "print(cpcs.columns)\n",
        "print(list(cpcs.columns))\n",
        "cpcs.columns = ['CPC name', 'state']\n",
        "\n",
        "print(\"5. Re-saving CPCs file\")\n",
        "cpcs.to_csv(\"cpcs.csv\")\n"
      ],
      "execution_count": 54,
      "outputs": [
        {
          "output_type": "stream",
          "text": [
            "1. Cleaning up 'city, state, zip' column\n",
            "2. Checking last 10 records\n",
            "                    Crisis Pregnancy Center City, State, Zip Code\n",
            "2624        HEART TO HEART PREGNANCY CENTER                    WY\n",
            "2625                        THE FAMILY TREE                    WY\n",
            "2626  ABBA'S HOUSE PREGNANCY MEDICAL CLINIC                    WY\n",
            "2627                      INSIDE CONNECTION                    WY\n",
            "2628                LEGACY PREGNANCY CENTER                    WY\n",
            "3. Checking first 10 records\n",
            "                             Crisis Pregnancy Center City, State, Zip Code\n",
            "0           REAL LIFE PREGNANCY CENTER - ALBERTVILLE                    AL\n",
            "1                    SAV-A-LIFE OF TALLAPOOSA COUNTY                    AL\n",
            "2  SAV-A-LIFE FAMILY HOPE CENTER OF COVINGTON COU...                    AL\n",
            "3                            HOPE WOMEN'S SERVICES                      AL\n",
            "4                            WOMEN'S RESOURCE CENTER                    AL\n",
            "4. Renaming columns\n",
            "Index(['Crisis Pregnancy Center', 'City, State, Zip Code'], dtype='object')\n",
            "['Crisis Pregnancy Center', 'City, State, Zip Code']\n",
            "5. Re-saving CPCs file\n"
          ],
          "name": "stdout"
        }
      ]
    },
    {
      "metadata": {
        "id": "DQIXsznqK82G",
        "colab_type": "text"
      },
      "cell_type": "markdown",
      "source": [
        "###### Creating dataset to capture number CPCs by state"
      ]
    },
    {
      "metadata": {
        "id": "Xx8qe64IJQ7S",
        "colab_type": "code",
        "colab": {
          "base_uri": "https://localhost:8080/",
          "height": 173
        },
        "outputId": "3d08d6f5-6a53-409b-e105-388eeb4ca4f8"
      },
      "cell_type": "code",
      "source": [
        "import pandas as pd\n",
        "\n",
        "cpcs_bystate = cpcs.groupby('state')['CPC name'].count()\n",
        "\n",
        "print(\"1. Checking first 5 records\")\n",
        "print(cpcs_bystate.head(5))\n",
        "\n",
        "print(\"2. renaming columns\")\n",
        "cpcs_bystate.columns = ['state', 'number_cpcs']\n"
      ],
      "execution_count": 55,
      "outputs": [
        {
          "output_type": "stream",
          "text": [
            "1. Checking first 5 records\n",
            "state\n",
            "AK     10\n",
            "AL     50\n",
            "AR     45\n",
            "AZ     48\n",
            "CA    172\n",
            "Name: CPC name, dtype: int64\n",
            "2. renaming columns\n"
          ],
          "name": "stdout"
        }
      ]
    },
    {
      "metadata": {
        "id": "6FZCwJ6uh9qG",
        "colab_type": "text"
      },
      "cell_type": "markdown",
      "source": [
        "### Abortion provision datasets\n",
        "\n",
        "I am measuring abortion provision within the state by looking at abortion restrictions and at the number of abortion providers within the state."
      ]
    },
    {
      "metadata": {
        "id": "uV0dLc-l2zh0",
        "colab_type": "text"
      },
      "cell_type": "markdown",
      "source": [
        "##### Restrictions, 1: Hospital requirements\n",
        "\n",
        "\n",
        "https://www.kff.org/womens-health-policy/state-indicator/regulations-on-facilities-and-clinicians-providing-abortions/?currentTimeframe=0&sortModel=%7B%22colId%22:%22Location%22,%22sort%22:%22asc%22%7D"
      ]
    },
    {
      "metadata": {
        "id": "zCoReJRi4rsT",
        "colab_type": "text"
      },
      "cell_type": "markdown",
      "source": [
        "###### Importing dataset [facility_regulations]"
      ]
    },
    {
      "metadata": {
        "id": "cCKqLZRFGcyq",
        "colab_type": "code",
        "outputId": "5ba08dfe-194e-455a-a80a-3ae97bf9852a",
        "colab": {
          "base_uri": "https://localhost:8080/",
          "height": 2145
        }
      },
      "cell_type": "code",
      "source": [
        "import pandas as pd\n",
        "\n",
        "facility_regulations = pd.read_csv(\"facility_regulations_KFF.csv\", skiprows=2)\n",
        "\n",
        "# I will check the first and last 5 records, and the column values\n",
        "print(\"1. Getting the first 5 records\")\n",
        "print(facility_regulations.head(5))\n",
        "\n",
        "print(\"2. Retrieving last 5 records\")\n",
        "print(facility_regulations.tail(5))\n",
        "\n",
        "print(\"3. Getting column values\")\n",
        "print(facility_regulations.columns)\n",
        "                       "
      ],
      "execution_count": 56,
      "outputs": [
        {
          "output_type": "stream",
          "text": [
            "1. Getting the first 5 records\n",
            "        Location  \\\n",
            "0  United States   \n",
            "1        Alabama   \n",
            "2         Alaska   \n",
            "3        Arizona   \n",
            "4       Arkansas   \n",
            "\n",
            "  Clinic must meet structural standards comparable to ambulatory surgical centers  \\\n",
            "0                                          17 states                                \n",
            "1                                                Yes                                \n",
            "2                                                 No                                \n",
            "3                                                Yes                                \n",
            "4                                                Yes                                \n",
            "\n",
            "  Corridor width and/or procedure room size specified  \\\n",
            "0                                          13 states    \n",
            "1                                     Corridor width    \n",
            "2                                                 No    \n",
            "3                                                 No    \n",
            "4                                Procedure room size    \n",
            "\n",
            "  Maximum distance between clinics and hospital specified  \\\n",
            "0                                           8 states        \n",
            "1  Same standard metropolitan statistical area as...        \n",
            "2                                                 No        \n",
            "3                                           30 miles        \n",
            "4                                           30 miles        \n",
            "\n",
            "  Transfer agreement with hospital in event of complications required  \\\n",
            "0                                           6 states                    \n",
            "1                                                 No                    \n",
            "2                                                 No                    \n",
            "3                                                 No                    \n",
            "4                                                 No                    \n",
            "\n",
            "  Hospital admitting privileges for clinicians required  \\\n",
            "0                                           3 states      \n",
            "1          Hospital privileges; Policy not in effect      \n",
            "2                                                 No      \n",
            "3                                                 No      \n",
            "4                                                 No      \n",
            "\n",
            "  Hospital admitting privileges or alternative agreements for clinicians required  \\\n",
            "0                                           7 states                                \n",
            "1       Hospital privileges or alternative agreement                                \n",
            "2                                                 No                                \n",
            "3       Hospital privileges or alternative agreement                                \n",
            "4  Hospital privileges or alternative agreement; ...                                \n",
            "\n",
            "  Footnotes  \n",
            "0       NaN  \n",
            "1         1  \n",
            "2       NaN  \n",
            "3         2  \n",
            "4         1  \n",
            "2. Retrieving last 5 records\n",
            "                                             Location  \\\n",
            "63  1. Law is temporarily enjoined pending a court...   \n",
            "64  2. Applies only to clinics providing surgical ...   \n",
            "65  3. In most states, regulations apply to all ab...   \n",
            "66  4. Indiana law requires an abortion provider t...   \n",
            "67  5. Law is permanently enjoined and is not in e...   \n",
            "\n",
            "   Clinic must meet structural standards comparable to ambulatory surgical centers  \\\n",
            "63                                                NaN                                \n",
            "64                                                NaN                                \n",
            "65                                                NaN                                \n",
            "66                                                NaN                                \n",
            "67                                                NaN                                \n",
            "\n",
            "   Corridor width and/or procedure room size specified  \\\n",
            "63                                                NaN    \n",
            "64                                                NaN    \n",
            "65                                                NaN    \n",
            "66                                                NaN    \n",
            "67                                                NaN    \n",
            "\n",
            "   Maximum distance between clinics and hospital specified  \\\n",
            "63                                                NaN        \n",
            "64                                                NaN        \n",
            "65                                                NaN        \n",
            "66                                                NaN        \n",
            "67                                                NaN        \n",
            "\n",
            "   Transfer agreement with hospital in event of complications required  \\\n",
            "63                                                NaN                    \n",
            "64                                                NaN                    \n",
            "65                                                NaN                    \n",
            "66                                                NaN                    \n",
            "67                                                NaN                    \n",
            "\n",
            "   Hospital admitting privileges for clinicians required  \\\n",
            "63                                                NaN      \n",
            "64                                                NaN      \n",
            "65                                                NaN      \n",
            "66                                                NaN      \n",
            "67                                                NaN      \n",
            "\n",
            "   Hospital admitting privileges or alternative agreements for clinicians required  \\\n",
            "63                                                NaN                                \n",
            "64                                                NaN                                \n",
            "65                                                NaN                                \n",
            "66                                                NaN                                \n",
            "67                                                NaN                                \n",
            "\n",
            "   Footnotes  \n",
            "63       NaN  \n",
            "64       NaN  \n",
            "65       NaN  \n",
            "66       NaN  \n",
            "67       NaN  \n",
            "3. Getting column values\n",
            "Index(['Location',\n",
            "       'Clinic must meet structural standards comparable to ambulatory surgical centers',\n",
            "       'Corridor width and/or procedure room size specified',\n",
            "       'Maximum distance between clinics and hospital specified',\n",
            "       'Transfer agreement with hospital in event of complications required',\n",
            "       'Hospital admitting privileges for clinicians required',\n",
            "       'Hospital admitting privileges or alternative agreements for clinicians required',\n",
            "       'Footnotes'],\n",
            "      dtype='object')\n"
          ],
          "name": "stdout"
        }
      ]
    },
    {
      "metadata": {
        "id": "556Hj3Nc4uvt",
        "colab_type": "text"
      },
      "cell_type": "markdown",
      "source": [
        "###### Cleaning dataset"
      ]
    },
    {
      "metadata": {
        "id": "XpGT1l_95D7Z",
        "colab_type": "code",
        "colab": {
          "base_uri": "https://localhost:8080/",
          "height": 1108
        },
        "outputId": "3752864e-d35f-4683-82e8-b41d6708915e"
      },
      "cell_type": "code",
      "source": [
        "\n",
        "print (\"1. Dropping last 16 rows with notes\")\n",
        "facility_regulations.drop(facility_regulations.tail(16).index,inplace=True)\n",
        "\n",
        "# # 'Location' is the variable I'll need when merging later\n",
        "# # 'Location' gives the full state name.\n",
        "\n",
        "# # I want to drop the footnotes column \n",
        "# percent_preterm = percent_preterm.drop(percent_preterm.columns[[5]], axis=1) \n",
        "\n",
        "print(\"2. Getting column values\")\n",
        "print(facility_regulations.columns)\n",
        "print(list(facility_regulations))\n",
        "\n",
        "print(\"3. Dropping footnotes column\")\n",
        "facility_regulations = facility_regulations.drop(facility_regulations.columns[[7]], axis=1)\n",
        "\n",
        "# I want to rename the columns\n",
        "print(\"4. Renaming columns\")\n",
        "facility_regulations.columns = ['state', 'ASC requirement', 'corridor/room size', 'dist to hospital', 'transfer agreement w hospital', 'admitting privileges', 'admitting privileges or alt agreement']\n",
        "\n",
        "print(\"5. Retrieving last 10 records - to check\")\n",
        "print(facility_regulations.tail(10))"
      ],
      "execution_count": 57,
      "outputs": [
        {
          "output_type": "stream",
          "text": [
            "1. Dropping last 16 rows with notes\n",
            "2. Getting column values\n",
            "Index(['Location',\n",
            "       'Clinic must meet structural standards comparable to ambulatory surgical centers',\n",
            "       'Corridor width and/or procedure room size specified',\n",
            "       'Maximum distance between clinics and hospital specified',\n",
            "       'Transfer agreement with hospital in event of complications required',\n",
            "       'Hospital admitting privileges for clinicians required',\n",
            "       'Hospital admitting privileges or alternative agreements for clinicians required',\n",
            "       'Footnotes'],\n",
            "      dtype='object')\n",
            "['Location', 'Clinic must meet structural standards comparable to ambulatory surgical centers', 'Corridor width and/or procedure room size specified', 'Maximum distance between clinics and hospital specified', 'Transfer agreement with hospital in event of complications required', 'Hospital admitting privileges for clinicians required', 'Hospital admitting privileges or alternative agreements for clinicians required', 'Footnotes']\n",
            "3. Dropping footnotes column\n",
            "4. Renaming columns\n",
            "5. Retrieving last 10 records - to check\n",
            "            state            ASC requirement   corridor/room size  \\\n",
            "42   South Dakota                        Yes       Corridor width   \n",
            "43      Tennessee  Yes; Policy not in effect                   No   \n",
            "44          Texas  Yes; Policy not in effect                   No   \n",
            "45           Utah                        Yes  Procedure room size   \n",
            "46        Vermont                         No                   No   \n",
            "47       Virginia                         No                   No   \n",
            "48     Washington                         No                   No   \n",
            "49  West Virginia                         No                   No   \n",
            "50      Wisconsin                         No                   No   \n",
            "51        Wyoming                         No                   No   \n",
            "\n",
            "                         dist to hospital transfer agreement w hospital  \\\n",
            "42                                     No                            No   \n",
            "43  Adjacent County; Policy not in effect                            No   \n",
            "44         30 miles; Policy not in effect                            No   \n",
            "45                             15 minutes                            No   \n",
            "46                                     No                            No   \n",
            "47                                     No                            No   \n",
            "48                                     No                            No   \n",
            "49                                     No                            No   \n",
            "50         30 miles; Policy not in effect                           Yes   \n",
            "51                                     No                            No   \n",
            "\n",
            "                         admitting privileges  \\\n",
            "42                                         No   \n",
            "43  Hospital privileges; Policy not in effect   \n",
            "44  Hospital privileges; Policy not in effect   \n",
            "45                        Hospital privileges   \n",
            "46                                         No   \n",
            "47                                         No   \n",
            "48                                         No   \n",
            "49                                         No   \n",
            "50  Hospital privileges; Policy not in effect   \n",
            "51                                         No   \n",
            "\n",
            "           admitting privileges or alt agreement  \n",
            "42                                            No  \n",
            "43                                            No  \n",
            "44  Hospital privileges or alternative agreement  \n",
            "45                                            No  \n",
            "46                                            No  \n",
            "47                                            No  \n",
            "48                                            No  \n",
            "49                                            No  \n",
            "50                                            No  \n",
            "51                                            No  \n"
          ],
          "name": "stdout"
        }
      ]
    },
    {
      "metadata": {
        "id": "-IEeXzgF9ZmY",
        "colab_type": "text"
      },
      "cell_type": "markdown",
      "source": [
        "#### Restrictions, 2: restrictions on gestational limits\n",
        "\n",
        "https://www.kff.org/womens-health-policy/state-indicator/gestational-limit-abortions/?currentTimeframe=0&sortModel=%7B%22colId%22:%22Location%22,%22sort%22:%22asc%22%7D"
      ]
    },
    {
      "metadata": {
        "id": "rtb_oAL19gZ1",
        "colab_type": "text"
      },
      "cell_type": "markdown",
      "source": [
        "##### Importing dataset [gest_age]"
      ]
    },
    {
      "metadata": {
        "id": "EJNO_Rrk9k2R",
        "colab_type": "code",
        "colab": {
          "base_uri": "https://localhost:8080/",
          "height": 1244
        },
        "outputId": "11ee1885-aa75-4a93-ab3d-d17c7d35d23d"
      },
      "cell_type": "code",
      "source": [
        "import pandas as pd\n",
        "\n",
        "print(\"1. Importing dataset\")\n",
        "gest_age = pd.read_csv(\"gestational_limits_KFF.csv\", skiprows=2)\n",
        "\n",
        "print(\"2. Retrieving first 5 records\")\n",
        "print(gest_age.head(5))\n",
        "\n",
        "print(\"3. Retrieving last 5 records\")\n",
        "print(gest_age.tail(5))"
      ],
      "execution_count": 58,
      "outputs": [
        {
          "output_type": "stream",
          "text": [
            "1. Importing dataset\n",
            "2. Retrieving first 5 records\n",
            "        Location  \\\n",
            "0  United States   \n",
            "1        Alabama   \n",
            "2         Alaska   \n",
            "3        Arizona   \n",
            "4       Arkansas   \n",
            "\n",
            "  State Prohibits Some Abortions After a Certain Point in Pregnancy  \\\n",
            "0                                             43 Yes                  \n",
            "1                                                Yes                  \n",
            "2                                                 No                  \n",
            "3                                                Yes                  \n",
            "4                                                Yes                  \n",
            "\n",
            "  Gestational Limit on Abortions  \\\n",
            "0                            NaN   \n",
            "1     20 weeks postfertilization   \n",
            "2                            NaN   \n",
            "3                Fetal viability   \n",
            "4     20 weeks postfertilization   \n",
            "\n",
            "  Abortion Later in Pregnancy Permitted When Pregnancy Threatens Woman's:  \\\n",
            "0                                                NaN                        \n",
            "1                           Life and physical health                        \n",
            "2                                                NaN                        \n",
            "3                                    Life and health                        \n",
            "4                           Life and physical health                        \n",
            "\n",
            "   Footnotes  \n",
            "0        NaN  \n",
            "1        NaN  \n",
            "2        NaN  \n",
            "3        1.0  \n",
            "4        NaN  \n",
            "3. Retrieving last 5 records\n",
            "                                             Location  \\\n",
            "64                                                NaN   \n",
            "65                             *N/A*: Not applicable.   \n",
            "66                                          Footnotes   \n",
            "67  1. A law in Arizona that would ban abortion at...   \n",
            "68  2. An Idaho law that bans abortion at 20 weeks...   \n",
            "\n",
            "   State Prohibits Some Abortions After a Certain Point in Pregnancy  \\\n",
            "64                                                NaN                  \n",
            "65                                                NaN                  \n",
            "66                                                NaN                  \n",
            "67                                                NaN                  \n",
            "68                                                NaN                  \n",
            "\n",
            "   Gestational Limit on Abortions  \\\n",
            "64                            NaN   \n",
            "65                            NaN   \n",
            "66                            NaN   \n",
            "67                            NaN   \n",
            "68                            NaN   \n",
            "\n",
            "   Abortion Later in Pregnancy Permitted When Pregnancy Threatens Woman's:  \\\n",
            "64                                                NaN                        \n",
            "65                                                NaN                        \n",
            "66                                                NaN                        \n",
            "67                                                NaN                        \n",
            "68                                                NaN                        \n",
            "\n",
            "    Footnotes  \n",
            "64        NaN  \n",
            "65        NaN  \n",
            "66        NaN  \n",
            "67        NaN  \n",
            "68        NaN  \n"
          ],
          "name": "stdout"
        }
      ]
    },
    {
      "metadata": {
        "id": "jeb3H4Pc9h8u",
        "colab_type": "text"
      },
      "cell_type": "markdown",
      "source": [
        "##### Cleaning dataset"
      ]
    },
    {
      "metadata": {
        "id": "q5ux0NhU9-Yd",
        "colab_type": "code",
        "colab": {
          "base_uri": "https://localhost:8080/",
          "height": 849
        },
        "outputId": "d6fc2e20-6a2e-44be-b34f-c829526ee622"
      },
      "cell_type": "code",
      "source": [
        "print(\"1. Dropping last 17 records\")\n",
        "gest_age.drop(gest_age.tail(17).index,inplace=True)\n",
        "\n",
        "print(\"2. Getting column values\")\n",
        "print(gest_age.columns)\n",
        "print(list(gest_age))\n",
        "\n",
        "print(\"3. Dropping footnotes column\")\n",
        "gest_age = gest_age.drop(gest_age.columns[[4]], axis=1) \n",
        "\n",
        "print(\"4. Renaming columns\")\n",
        "gest_age.columns = ['state', 'state prohibits some abortions after certain pt in pregnancy', 'gestational limit', \"when is later abortion permitted\"]\n",
        "\n",
        "print(\"5. Checking last 10\")\n",
        "print(gest_age.tail(10))"
      ],
      "execution_count": 59,
      "outputs": [
        {
          "output_type": "stream",
          "text": [
            "1. Dropping last 17 records\n",
            "2. Getting column values\n",
            "Index(['Location',\n",
            "       'State Prohibits Some Abortions After a Certain Point in Pregnancy',\n",
            "       'Gestational Limit on Abortions',\n",
            "       'Abortion Later in Pregnancy Permitted When Pregnancy Threatens Woman's:',\n",
            "       'Footnotes'],\n",
            "      dtype='object')\n",
            "['Location', 'State Prohibits Some Abortions After a Certain Point in Pregnancy', 'Gestational Limit on Abortions', \"Abortion Later in Pregnancy Permitted When Pregnancy Threatens Woman's:\", 'Footnotes']\n",
            "3. Dropping footnotes column\n",
            "4. Renaming columns\n",
            "5. Checking last 10\n",
            "            state  \\\n",
            "42   South Dakota   \n",
            "43      Tennessee   \n",
            "44          Texas   \n",
            "45           Utah   \n",
            "46        Vermont   \n",
            "47       Virginia   \n",
            "48     Washington   \n",
            "49  West Virginia   \n",
            "50      Wisconsin   \n",
            "51        Wyoming   \n",
            "\n",
            "   state prohibits some abortions after certain pt in pregnancy  \\\n",
            "42                                                Yes             \n",
            "43                                                Yes             \n",
            "44                                                Yes             \n",
            "45                                                Yes             \n",
            "46                                                 No             \n",
            "47                                                Yes             \n",
            "48                                                Yes             \n",
            "49                                                Yes             \n",
            "50                                                Yes             \n",
            "51                                                Yes             \n",
            "\n",
            "             gestational limit when is later abortion permitted  \n",
            "42  20 weeks postfertilization         Life and physical health  \n",
            "43             Fetal viability                  Life and health  \n",
            "44  20 weeks postfertilization         Life and physical health  \n",
            "45             Fetal viability                  Life and health  \n",
            "46                         NaN                              NaN  \n",
            "47           3rd trimester LMP                  Life and health  \n",
            "48             Fetal viability                  Life and health  \n",
            "49                22 weeks LMP         Life and physical health  \n",
            "50  20 weeks postfertilization                  Life and health  \n",
            "51             Fetal viability                  Life and health  \n"
          ],
          "name": "stdout"
        }
      ]
    },
    {
      "metadata": {
        "id": "TV5K2cwmAsxw",
        "colab_type": "text"
      },
      "cell_type": "markdown",
      "source": [
        "#### Restrictions, 3: mandatory ultrasounds\n",
        "\n",
        "https://www.kff.org/womens-health-policy/state-indicator/ultrasound-requirements/"
      ]
    },
    {
      "metadata": {
        "id": "pefLK_xsA7Dw",
        "colab_type": "text"
      },
      "cell_type": "markdown",
      "source": [
        "##### Importing dataset [ultrasounds]"
      ]
    },
    {
      "metadata": {
        "id": "TQJl4DP6A5Lj",
        "colab_type": "code",
        "colab": {
          "base_uri": "https://localhost:8080/",
          "height": 1734
        },
        "outputId": "c4f26b58-cd4a-45b1-a123-4b14ceff2b18"
      },
      "cell_type": "code",
      "source": [
        "import pandas as pd\n",
        "\n",
        "ultrasounds = pd.read_csv(\"mandatory_ultrasounds_KFF.csv\", skiprows=2)\n",
        "\n",
        "\n",
        "# I will check the first and last 5 records, and the column values\n",
        "print(\"1. Getting the first 5 records\")\n",
        "print(ultrasounds.head(5))\n",
        "\n",
        "print(\"2. Retrieving last 5 records\")\n",
        "print(ultrasounds.tail(5))\n",
        "\n",
        "print(\"3. Getting column values\")\n",
        "print(ultrasounds.columns)\n",
        "print(list(ultrasounds))\n",
        "\n"
      ],
      "execution_count": 8,
      "outputs": [
        {
          "output_type": "stream",
          "text": [
            "1. Getting the first 5 records\n",
            "        Location State has ultrasound requirement?  \\\n",
            "0  United States                            26 Yes   \n",
            "1        Alabama                               Yes   \n",
            "2         Alaska                                No   \n",
            "3        Arizona                               Yes   \n",
            "4       Arkansas                               Yes   \n",
            "\n",
            "  Woman must receive information on accessing ultrasound services  \\\n",
            "0                                             14 Yes                \n",
            "1                                                 No                \n",
            "2                                                 No                \n",
            "3                                                 No                \n",
            "4                                                 No                \n",
            "\n",
            "  Provision of ultrasound required for abortion and the provider must display and describe image  \\\n",
            "0                                              4 Yes                                               \n",
            "1                                                 No                                               \n",
            "2                                                 No                                               \n",
            "3                                                 No                                               \n",
            "4                                                 No                                               \n",
            "\n",
            "  Provision of ultrasound required for abortion and provider must offer woman opportunity to view image  \\\n",
            "0                                              9 Yes                                                      \n",
            "1                                                Yes                                                      \n",
            "2                                                 No                                                      \n",
            "3                                                Yes                                                      \n",
            "4                                                 No                                                      \n",
            "\n",
            "  If ultrasound is performed as part of preparation for abortion, provider must offer woman opportunity to view image  \\\n",
            "0                                              9 Yes                                                                    \n",
            "1                                                 No                                                                    \n",
            "2                                                 No                                                                    \n",
            "3                                                 No                                                                    \n",
            "4                                                Yes                                                                    \n",
            "\n",
            "  Provision of ultrasound must be offered by provider to woman Footnotes  \n",
            "0                                              6 Yes                 NaN  \n",
            "1                                                 No                 NaN  \n",
            "2                                                 No                 NaN  \n",
            "3                                                 No                   1  \n",
            "4                                                 No                 NaN  \n",
            "2. Retrieving last 5 records\n",
            "                                             Location  \\\n",
            "63  5. If an ultrasound is requested by the woman,...   \n",
            "64  6. This law is permanently enjoined by court o...   \n",
            "65  7. The provider must test for the fetal heartb...   \n",
            "66  8. The woman will also be offered the option t...   \n",
            "67  9. In Virginia and Wisconsin, a woman who has ...   \n",
            "\n",
            "   State has ultrasound requirement?  \\\n",
            "63                               NaN   \n",
            "64                               NaN   \n",
            "65                               NaN   \n",
            "66                               NaN   \n",
            "67                               NaN   \n",
            "\n",
            "   Woman must receive information on accessing ultrasound services  \\\n",
            "63                                                NaN                \n",
            "64                                                NaN                \n",
            "65                                                NaN                \n",
            "66                                                NaN                \n",
            "67                                                NaN                \n",
            "\n",
            "   Provision of ultrasound required for abortion and the provider must display and describe image  \\\n",
            "63                                                NaN                                               \n",
            "64                                                NaN                                               \n",
            "65                                                NaN                                               \n",
            "66                                                NaN                                               \n",
            "67                                                NaN                                               \n",
            "\n",
            "   Provision of ultrasound required for abortion and provider must offer woman opportunity to view image  \\\n",
            "63                                                NaN                                                      \n",
            "64                                                NaN                                                      \n",
            "65                                                NaN                                                      \n",
            "66                                                NaN                                                      \n",
            "67                                                NaN                                                      \n",
            "\n",
            "   If ultrasound is performed as part of preparation for abortion, provider must offer woman opportunity to view image  \\\n",
            "63                                                NaN                                                                    \n",
            "64                                                NaN                                                                    \n",
            "65                                                NaN                                                                    \n",
            "66                                                NaN                                                                    \n",
            "67                                                NaN                                                                    \n",
            "\n",
            "   Provision of ultrasound must be offered by provider to woman Footnotes  \n",
            "63                                                NaN                 NaN  \n",
            "64                                                NaN                 NaN  \n",
            "65                                                NaN                 NaN  \n",
            "66                                                NaN                 NaN  \n",
            "67                                                NaN                 NaN  \n",
            "3. Getting column values\n",
            "Index(['Location', 'State has ultrasound requirement?',\n",
            "       'Woman must receive information on accessing ultrasound services',\n",
            "       'Provision of ultrasound required for abortion and the provider must display and describe image',\n",
            "       'Provision of ultrasound required for abortion and provider must offer woman opportunity to view image',\n",
            "       'If ultrasound is performed as part of preparation for abortion, provider must offer woman opportunity to view image',\n",
            "       'Provision of ultrasound must be offered by provider to woman',\n",
            "       'Footnotes'],\n",
            "      dtype='object')\n",
            "['Location', 'State has ultrasound requirement?', 'Woman must receive information on accessing ultrasound services', 'Provision of ultrasound required for abortion and the provider must display and describe image', 'Provision of ultrasound required for abortion and provider must offer woman opportunity to view image', 'If ultrasound is performed as part of preparation for abortion, provider must offer woman opportunity to view image', 'Provision of ultrasound must be offered by provider to woman', 'Footnotes']\n"
          ],
          "name": "stdout"
        }
      ]
    },
    {
      "metadata": {
        "id": "v-wS_uYzA9M0",
        "colab_type": "text"
      },
      "cell_type": "markdown",
      "source": [
        "##### Cleaning dataset"
      ]
    },
    {
      "metadata": {
        "id": "VGw_PCPYBA2C",
        "colab_type": "code",
        "colab": {
          "base_uri": "https://localhost:8080/",
          "height": 457
        },
        "outputId": "eec95700-061d-428b-d8f5-2cf4b0bb5119"
      },
      "cell_type": "code",
      "source": [
        "# There are a lot of rows I don't need in here, so I'll drop some:\n",
        "print(\"1. Dropping rows with unnecessary data\")\n",
        "ultrasounds.drop(ultrasounds.tail(16).index,inplace=True)\n",
        "\n",
        "# These column names are a mess, so I'll rename\n",
        "print(\"2. Getting column values\")\n",
        "print(ultrasounds.columns)\n",
        "print(list(ultrasounds))\n",
        "\n",
        "# A lot of these columns are specifics about the ultrasound policy\n",
        "# I only want to look at the presence of a policy, so will drop\n",
        "print(\"3. Dropping columns with notes about specifics of policy\")\n",
        "ultrasounds = ultrasounds.drop(ultrasounds.columns[[2, 3, 4, 5, 6, 7]], axis=1)\n",
        "\n",
        "print(\"4. Renaming columns\")\n",
        "ultrasounds.columns = ['state', 'ultrasound_required']\n",
        "\n",
        "print(\"5. Retrieving last 10 records\")\n",
        "print(ultrasounds.tail(10))"
      ],
      "execution_count": 9,
      "outputs": [
        {
          "output_type": "stream",
          "text": [
            "1. Dropping rows with unnecessary data\n",
            "2. Getting column values\n",
            "Index(['Location', 'State has ultrasound requirement?',\n",
            "       'Woman must receive information on accessing ultrasound services',\n",
            "       'Provision of ultrasound required for abortion and the provider must display and describe image',\n",
            "       'Provision of ultrasound required for abortion and provider must offer woman opportunity to view image',\n",
            "       'If ultrasound is performed as part of preparation for abortion, provider must offer woman opportunity to view image',\n",
            "       'Provision of ultrasound must be offered by provider to woman',\n",
            "       'Footnotes'],\n",
            "      dtype='object')\n",
            "['Location', 'State has ultrasound requirement?', 'Woman must receive information on accessing ultrasound services', 'Provision of ultrasound required for abortion and the provider must display and describe image', 'Provision of ultrasound required for abortion and provider must offer woman opportunity to view image', 'If ultrasound is performed as part of preparation for abortion, provider must offer woman opportunity to view image', 'Provision of ultrasound must be offered by provider to woman', 'Footnotes']\n",
            "3. Dropping columns with notes about specifics of policy\n",
            "4. Renaming columns\n",
            "5. Retrieving last 10 records\n",
            "            state ultrasound_required\n",
            "42   South Dakota                 Yes\n",
            "43      Tennessee                  No\n",
            "44          Texas                 Yes\n",
            "45           Utah                 Yes\n",
            "46        Vermont                  No\n",
            "47       Virginia                 Yes\n",
            "48     Washington                  No\n",
            "49  West Virginia                 Yes\n",
            "50      Wisconsin                 Yes\n",
            "51        Wyoming                  No\n"
          ],
          "name": "stdout"
        }
      ]
    },
    {
      "metadata": {
        "id": "cfLn0QUBBgvV",
        "colab_type": "text"
      },
      "cell_type": "markdown",
      "source": [
        "#### Restrictions, 4: state policies on abortion\n",
        "https://www.kff.org/womens-health-policy/state-indicator/state-policies-protecting-or-restricting-legal-status-of-abortion/?currentTimeframe=0&sortModel=%7B%22colId%22:%22Location%22,%22sort%22:%22asc%22%7D"
      ]
    },
    {
      "metadata": {
        "id": "zW_VcxGPBuBM",
        "colab_type": "text"
      },
      "cell_type": "markdown",
      "source": [
        "##### Importing dataset [state_policies]"
      ]
    },
    {
      "metadata": {
        "id": "Uk50y_6yBgEH",
        "colab_type": "code",
        "colab": {
          "base_uri": "https://localhost:8080/",
          "height": 987
        },
        "outputId": "2be74fd7-781f-4428-8baa-ef92901195f8"
      },
      "cell_type": "code",
      "source": [
        "import pandas as pd\n",
        "\n",
        "state_policies = pd.read_csv(\"state_policies_Roe_KFF.csv\", skiprows=2)\n",
        "\n",
        "# I will check the first and last 5 records, and the column values\n",
        "print(\"1. Getting the first 5 records\")\n",
        "print(state_policies.head(5))\n",
        "\n",
        "print(\"2. Retrieving last 5 records\")\n",
        "print(state_policies.tail(5))\n",
        "\n",
        "print(\"3. Getting column values\")\n",
        "print(state_policies.columns)\n",
        "print(list(state_policies))"
      ],
      "execution_count": 60,
      "outputs": [
        {
          "output_type": "stream",
          "text": [
            "1. Getting the first 5 records\n",
            "        Location Pre-Roe Abortion Ban Still State Law  \\\n",
            "0  United States                              Yes - 9   \n",
            "1        Alabama                                  Yes   \n",
            "2         Alaska                                   No   \n",
            "3        Arizona                                  Yes   \n",
            "4       Arkansas                                  Yes   \n",
            "\n",
            "  State Law Expressing Intent to Limit Abortion to Maximum Extent Permitted  \\\n",
            "0                                            Yes - 7                          \n",
            "1                                                 No                          \n",
            "2                                                 No                          \n",
            "3                                                 No                          \n",
            "4                                                Yes                          \n",
            "\n",
            "  State Law Protecting the Right to Abortion Footnotes  \n",
            "0                                    Yes - 9       NaN  \n",
            "1                                         No      1, 2  \n",
            "2                                         No       NaN  \n",
            "3                                         No         1  \n",
            "4                                         No       NaN  \n",
            "2. Retrieving last 5 records\n",
            "                                             Location  \\\n",
            "56                                          Footnotes   \n",
            "57  1. Law includes an exception to protect the li...   \n",
            "58  2. Law includes an exception to protect the he...   \n",
            "59      3. Law includes an exception in case of rape.   \n",
            "60  4. Law does not apply in cases when necessary ...   \n",
            "\n",
            "   Pre-Roe Abortion Ban Still State Law  \\\n",
            "56                                  NaN   \n",
            "57                                  NaN   \n",
            "58                                  NaN   \n",
            "59                                  NaN   \n",
            "60                                  NaN   \n",
            "\n",
            "   State Law Expressing Intent to Limit Abortion to Maximum Extent Permitted  \\\n",
            "56                                                NaN                          \n",
            "57                                                NaN                          \n",
            "58                                                NaN                          \n",
            "59                                                NaN                          \n",
            "60                                                NaN                          \n",
            "\n",
            "   State Law Protecting the Right to Abortion Footnotes  \n",
            "56                                        NaN       NaN  \n",
            "57                                        NaN       NaN  \n",
            "58                                        NaN       NaN  \n",
            "59                                        NaN       NaN  \n",
            "60                                        NaN       NaN  \n",
            "3. Getting column values\n",
            "Index(['Location', 'Pre-Roe Abortion Ban Still State Law',\n",
            "       'State Law Expressing Intent to Limit Abortion to Maximum Extent Permitted',\n",
            "       'State Law Protecting the Right to Abortion', 'Footnotes'],\n",
            "      dtype='object')\n",
            "['Location', 'Pre-Roe Abortion Ban Still State Law', 'State Law Expressing Intent to Limit Abortion to Maximum Extent Permitted', 'State Law Protecting the Right to Abortion', 'Footnotes']\n"
          ],
          "name": "stdout"
        }
      ]
    },
    {
      "metadata": {
        "id": "q1u1rN0eBvgL",
        "colab_type": "text"
      },
      "cell_type": "markdown",
      "source": [
        "##### Cleaning dataset"
      ]
    },
    {
      "metadata": {
        "id": "bWz0AAlkCBMT",
        "colab_type": "code",
        "colab": {
          "base_uri": "https://localhost:8080/",
          "height": 691
        },
        "outputId": "715ec7a9-11b6-4587-d363-708aa514e7a1"
      },
      "cell_type": "code",
      "source": [
        "print(\"1. dropping last 9 rows\")\n",
        "state_policies.drop(state_policies.tail(9).index,inplace=True)\n",
        "\n",
        "print(\"2. Dropping columns with notes about specifics of policy\")\n",
        "state_policies = state_policies.drop(state_policies.columns[[4]], axis=1)\n",
        "\n",
        "print(\"3. Renaming columns\")\n",
        "state_policies.columns = ['state', 'pre-Roe ban still law', 'law expresses intent to limit abortion as much as permitted', 'law protects right to abortion']\n",
        "\n",
        "print(\"4. checking last 10\")\n",
        "print(state_policies.tail(10))"
      ],
      "execution_count": 61,
      "outputs": [
        {
          "output_type": "stream",
          "text": [
            "1. dropping last 9 rows\n",
            "2. Dropping columns with notes about specifics of policy\n",
            "3. Renaming columns\n",
            "4. checking last 10\n",
            "            state pre-Roe ban still law  \\\n",
            "42   South Dakota                    No   \n",
            "43      Tennessee                    No   \n",
            "44          Texas                    No   \n",
            "45           Utah                    No   \n",
            "46        Vermont                    No   \n",
            "47       Virginia                    No   \n",
            "48     Washington                    No   \n",
            "49  West Virginia                   Yes   \n",
            "50      Wisconsin                   Yes   \n",
            "51        Wyoming                    No   \n",
            "\n",
            "   law expresses intent to limit abortion as much as permitted  \\\n",
            "42                                                 No            \n",
            "43                                                 No            \n",
            "44                                                 No            \n",
            "45                                                 No            \n",
            "46                                                 No            \n",
            "47                                                 No            \n",
            "48                                                 No            \n",
            "49                                                 No            \n",
            "50                                                 No            \n",
            "51                                                 No            \n",
            "\n",
            "   law protects right to abortion  \n",
            "42                             No  \n",
            "43                             No  \n",
            "44                             No  \n",
            "45                             No  \n",
            "46                             No  \n",
            "47                             No  \n",
            "48                            Yes  \n",
            "49                             No  \n",
            "50                             No  \n",
            "51                             No  \n"
          ],
          "name": "stdout"
        }
      ]
    },
    {
      "metadata": {
        "id": "er0siHd2_iHR",
        "colab_type": "text"
      },
      "cell_type": "markdown",
      "source": [
        "#### Number abortions by state\n",
        "\n",
        "https://data.guttmacher.org/states/table?state=AL+AK+AZ+AR+CA+CO+CT+DE+DC+FL+GA+HI+ID+IL+IN+IA+KS+KY+LA+ME+MD+MA+MI+MN+MS+MO+MT+NE+NV+NH+NJ+NM+NY+NC+ND+OH+OK+OR+PA+RI+SC+SD+TN+TX+UT+VT+VA+WA+WV+WI+WY&topics=66&dataset=data"
      ]
    },
    {
      "metadata": {
        "id": "X_qo4qXv_wa_",
        "colab_type": "text"
      },
      "cell_type": "markdown",
      "source": [
        "##### Importing dataset [abortions_bystate]"
      ]
    },
    {
      "metadata": {
        "id": "QrGiofMC_wFx",
        "colab_type": "code",
        "colab": {
          "base_uri": "https://localhost:8080/",
          "height": 970
        },
        "outputId": "89a24874-ac15-47d9-f286-1069c7a4750e"
      },
      "cell_type": "code",
      "source": [
        "import pandas as pd\n",
        "\n",
        "abortions_bystate = pd.read_csv(\"number_abortions_by_state.csv\")\n",
        "\n",
        "\n",
        "# I will check the first and last 5 records, and the column values\n",
        "print(\"1. Getting the first 5 records\")\n",
        "print(abortions_bystate.head(5))\n",
        "\n",
        "print(\"2. Retrieving last 5 records\")\n",
        "print(abortions_bystate.tail(5))\n",
        "\n",
        "print(\"3. Getting column values\")\n",
        "print(abortions_bystate.columns)\n",
        "print(list(abortions_bystate))\n",
        "\n",
        "\n",
        "# # I want to drop the footnotes column\n",
        "# abortions_bystate = abortions_bystate.drop(abortions_bystate.columns[[2]], axis=1) \n",
        "\n",
        "# print(\"4. Retrieving last 10 records\")\n",
        "# print(abortions_bystate.tail(10))"
      ],
      "execution_count": 62,
      "outputs": [
        {
          "output_type": "stream",
          "text": [
            "1. Getting the first 5 records\n",
            "                                      measure_name  datum state_id  \\\n",
            "0  % of all U.S. abortions, by state of occurrence    0.9       AL   \n",
            "1  % of all U.S. abortions, by state of occurrence    0.2       AK   \n",
            "2  % of all U.S. abortions, by state of occurrence    1.4       AZ   \n",
            "3  % of all U.S. abortions, by state of occurrence    0.5       AR   \n",
            "4  % of all U.S. abortions, by state of occurrence   17.0       CA   \n",
            "\n",
            "   state_name  first_year  last_year footnotes  \\\n",
            "0     Alabama        2014        NaN       NaN   \n",
            "1      Alaska        2014        NaN       NaN   \n",
            "2     Arizona        2014        NaN       NaN   \n",
            "3    Arkansas        2014        NaN       NaN   \n",
            "4  California        2014        NaN       NaN   \n",
            "\n",
            "                                             sources  \n",
            "0  Abortion Incidence and Service Availability in...  \n",
            "1  Abortion Incidence and Service Availability in...  \n",
            "2  Abortion Incidence and Service Availability in...  \n",
            "3  Abortion Incidence and Service Availability in...  \n",
            "4  Abortion Incidence and Service Availability in...  \n",
            "2. Retrieving last 5 records\n",
            "                                 measure_name    datum state_id  \\\n",
            "97   No. of abortions, by state of occurrence  21080.0       VA   \n",
            "98   No. of abortions, by state of occurrence  19230.0       WA   \n",
            "99   No. of abortions, by state of occurrence   2020.0       WV   \n",
            "100  No. of abortions, by state of occurrence   6050.0       WI   \n",
            "101  No. of abortions, by state of occurrence    120.0       WY   \n",
            "\n",
            "        state_name  first_year  last_year  \\\n",
            "97        Virginia        2014        NaN   \n",
            "98      Washington        2014        NaN   \n",
            "99   West Virginia        2014        NaN   \n",
            "100      Wisconsin        2014        NaN   \n",
            "101        Wyoming        2014        NaN   \n",
            "\n",
            "                                             footnotes  \\\n",
            "97   Numbers of abortions are rounded to the neares...   \n",
            "98   Numbers of abortions are rounded to the neares...   \n",
            "99   Numbers of abortions are rounded to the neares...   \n",
            "100  Numbers of abortions are rounded to the neares...   \n",
            "101  Numbers of abortions are rounded to the neares...   \n",
            "\n",
            "                                               sources  \n",
            "97   Abortion Incidence and Service Availability in...  \n",
            "98   Abortion Incidence and Service Availability in...  \n",
            "99   Abortion Incidence and Service Availability in...  \n",
            "100  Abortion Incidence and Service Availability in...  \n",
            "101  Abortion Incidence and Service Availability in...  \n",
            "3. Getting column values\n",
            "Index(['measure_name', 'datum', 'state_id', 'state_name', 'first_year',\n",
            "       'last_year', 'footnotes', 'sources'],\n",
            "      dtype='object')\n",
            "['measure_name', 'datum', 'state_id', 'state_name', 'first_year', 'last_year', 'footnotes', 'sources']\n"
          ],
          "name": "stdout"
        }
      ]
    },
    {
      "metadata": {
        "id": "P6ilhh43RuCW",
        "colab_type": "code",
        "colab": {
          "base_uri": "https://localhost:8080/",
          "height": 259
        },
        "outputId": "fb1bf244-8542-4b03-ca98-a21f5ba9a6b0"
      },
      "cell_type": "code",
      "source": [
        "# Dropping columns\n",
        "print(\"1. Dropping columns\")\n",
        "abortions_bystate = abortions_bystate.drop(abortions_bystate.columns[[0, 4, 5, 6, 7]], axis=1) \n",
        "\n",
        "print(\"2. Renaming columns\")\n",
        "abortions_bystate.columns=['number abortions', 'state_id', 'state']\n",
        "\n",
        "# There are a lot of rows I don't need in here, so I'll drop some:\n",
        "# Dropping first 51 rows with duplicated data (see notes above)\n",
        "abortions_bystate.drop(abortions_bystate.head(51).index,inplace=True)\n",
        "\n",
        "\n",
        "print(\"3. Checking dataset\")\n",
        "print(abortions_bystate.tail(10))"
      ],
      "execution_count": 63,
      "outputs": [
        {
          "output_type": "stream",
          "text": [
            "1. Dropping columns\n",
            "2. Renaming columns\n",
            "3. Checking dataset\n",
            "     number abortions state_id          state\n",
            "92              550.0       SD   South Dakota\n",
            "93            13880.0       TN      Tennessee\n",
            "94            55230.0       TX          Texas\n",
            "95             2960.0       UT           Utah\n",
            "96             1400.0       VT        Vermont\n",
            "97            21080.0       VA       Virginia\n",
            "98            19230.0       WA     Washington\n",
            "99             2020.0       WV  West Virginia\n",
            "100            6050.0       WI      Wisconsin\n",
            "101             120.0       WY        Wyoming\n"
          ],
          "name": "stdout"
        }
      ]
    },
    {
      "metadata": {
        "id": "ijGtTSelAj2v",
        "colab_type": "text"
      },
      "cell_type": "markdown",
      "source": [
        "#### Number abortion providers by state\n",
        "\n",
        "I will use a dataset from the Guttmacher Institute, found here: https://data.guttmacher.org/states/table?state=AL+AK+AZ+AR+CA+CO+CT+DE+DC+FL+GA+HI+ID+IL+IN+IA+KS+KY+LA+ME+MD+MA+MI+MN+MS+MO+MT+NE+NV+NH+NJ+NM+NY+NC+ND+OH+OK+OR+PA+RI+SC+SD+TN+TX+UT+VT+VA+WA+WV+WI+WY&topics=57&dataset=data which gives data on the number of abortion providers by state in 2014 and the change from 2011-2014 "
      ]
    },
    {
      "metadata": {
        "id": "pIn-yMoFAsIP",
        "colab_type": "text"
      },
      "cell_type": "markdown",
      "source": [
        "##### Importing dataset [abortion_providers]"
      ]
    },
    {
      "metadata": {
        "id": "NU2l5Rg-ArcL",
        "colab_type": "code",
        "colab": {
          "base_uri": "https://localhost:8080/",
          "height": 607
        },
        "outputId": "ab9510c1-cff7-478d-a6bc-11ba5cbf32aa"
      },
      "cell_type": "code",
      "source": [
        "import pandas as pd\n",
        "\n",
        "abortion_providers = pd.read_csv(\"number_abortion_providers_by_state.csv\")\n",
        "\n",
        "# I will check the first and last 5 records, and the column values\n",
        "print(\"1. Getting the first 5 records\")\n",
        "print(abortion_providers.head(5))\n",
        "\n",
        "print(\"2. Retrieving last 5 records\")\n",
        "print(abortion_providers.tail(5))\n",
        "\n",
        "print(\"3. Getting column values\")\n",
        "print(abortion_providers.columns)\n",
        "print(list(abortion_providers))"
      ],
      "execution_count": 64,
      "outputs": [
        {
          "output_type": "stream",
          "text": [
            "1. Getting the first 5 records\n",
            "                     measure_name  datum state_id  state_name  first_year  \\\n",
            "0  % change in the no. of clinics    -17       AL     Alabama        2011   \n",
            "1  % change in the no. of clinics    -25       AK      Alaska        2011   \n",
            "2  % change in the no. of clinics    -40       AZ     Arizona        2011   \n",
            "3  % change in the no. of clinics      0       AR    Arkansas        2011   \n",
            "4  % change in the no. of clinics     -5       CA  California        2011   \n",
            "\n",
            "   last_year  footnotes                                            sources  \n",
            "0     2014.0        NaN  Abortion Incidence and Service Availability in...  \n",
            "1     2014.0        NaN  Abortion Incidence and Service Availability in...  \n",
            "2     2014.0        NaN  Abortion Incidence and Service Availability in...  \n",
            "3     2014.0        NaN  Abortion Incidence and Service Availability in...  \n",
            "4     2014.0        NaN  Abortion Incidence and Service Availability in...  \n",
            "2. Retrieving last 5 records\n",
            "       measure_name  datum state_id     state_name  first_year  last_year  \\\n",
            "148  No. of clinics     18       VA       Virginia        2014        NaN   \n",
            "149  No. of clinics     33       WA     Washington        2014        NaN   \n",
            "150  No. of clinics      2       WV  West Virginia        2014        NaN   \n",
            "151  No. of clinics      4       WI      Wisconsin        2014        NaN   \n",
            "152  No. of clinics      1       WY        Wyoming        2014        NaN   \n",
            "\n",
            "     footnotes                                            sources  \n",
            "148        NaN  Abortion Incidence and Service Availability in...  \n",
            "149        NaN  Abortion Incidence and Service Availability in...  \n",
            "150        NaN  Abortion Incidence and Service Availability in...  \n",
            "151        NaN  Abortion Incidence and Service Availability in...  \n",
            "152        NaN  Abortion Incidence and Service Availability in...  \n",
            "3. Getting column values\n",
            "Index(['measure_name', 'datum', 'state_id', 'state_name', 'first_year',\n",
            "       'last_year', 'footnotes', 'sources'],\n",
            "      dtype='object')\n",
            "['measure_name', 'datum', 'state_id', 'state_name', 'first_year', 'last_year', 'footnotes', 'sources']\n"
          ],
          "name": "stdout"
        }
      ]
    },
    {
      "metadata": {
        "id": "e14eJzUNC_Ky",
        "colab_type": "text"
      },
      "cell_type": "markdown",
      "source": [
        "##### Cleaning dataset"
      ]
    },
    {
      "metadata": {
        "id": "tM1Y80cBDBKq",
        "colab_type": "code",
        "colab": {
          "base_uri": "https://localhost:8080/",
          "height": 985
        },
        "outputId": "8f6b48ef-2ec5-4865-d9fc-0b83380219f7"
      },
      "cell_type": "code",
      "source": [
        "# Dropping columns\n",
        "print(\"1. Dropping columns\")\n",
        "abortion_providers = abortion_providers.drop(abortion_providers.columns[[0, 4, 5, 6, 7]], axis=1) \n",
        "\n",
        "print(\"2. Renaming columns\")\n",
        "abortion_providers.columns=['number providers', 'state_id', 'state']\n",
        "\n",
        "# This dataset exported with all the different data in different rows by variable 'datum', so I need to remove the first 102\n",
        "print(\"3. dropping first 102 rows\")\n",
        "abortion_providers.drop(abortion_providers.head(102).index,inplace=True)\n",
        "\n",
        "print(\"4. Checking dataset\")\n",
        "print(abortion_providers.head(51))"
      ],
      "execution_count": 65,
      "outputs": [
        {
          "output_type": "stream",
          "text": [
            "1. Dropping columns\n",
            "2. Renaming columns\n",
            "3. dropping first 102 rows\n",
            "4. Checking dataset\n",
            "     number providers state_id                 state\n",
            "102                 5       AL               Alabama\n",
            "103                 3       AK                Alaska\n",
            "104                 9       AZ               Arizona\n",
            "105                 3       AR              Arkansas\n",
            "106               152       CA            California\n",
            "107                21       CO              Colorado\n",
            "108                25       CT           Connecticut\n",
            "109                 3       DE              Delaware\n",
            "110                 5       DC  District of Columbia\n",
            "111                71       FL               Florida\n",
            "112                17       GA               Georgia\n",
            "113                 4       HI                Hawaii\n",
            "114                 3       ID                 Idaho\n",
            "115                24       IL              Illinois\n",
            "116                 9       IN               Indiana\n",
            "117                12       IA                  Iowa\n",
            "118                 4       KS                Kansas\n",
            "119                 2       KY              Kentucky\n",
            "120                 5       LA             Louisiana\n",
            "121                 4       ME                 Maine\n",
            "122                25       MD              Maryland\n",
            "123                14       MA         Massachusetts\n",
            "124                20       MI              Michigan\n",
            "125                 6       MN             Minnesota\n",
            "126                 1       MS           Mississippi\n",
            "127                 1       MO              Missouri\n",
            "128                 5       MT               Montana\n",
            "129                 3       NE              Nebraska\n",
            "130                 8       NV                Nevada\n",
            "131                 4       NH         New Hampshire\n",
            "132                41       NJ            New Jersey\n",
            "133                 9       NM            New Mexico\n",
            "134                95       NY              New York\n",
            "135                16       NC        North Carolina\n",
            "136                 1       ND          North Dakota\n",
            "137                12       OH                  Ohio\n",
            "138                 3       OK              Oklahoma\n",
            "139                15       OR                Oregon\n",
            "140                20       PA          Pennsylvania\n",
            "141                 3       RI          Rhode Island\n",
            "142                 3       SC        South Carolina\n",
            "143                 1       SD          South Dakota\n",
            "144                 7       TN             Tennessee\n",
            "145                28       TX                 Texas\n",
            "146                 2       UT                  Utah\n",
            "147                 6       VT               Vermont\n",
            "148                18       VA              Virginia\n",
            "149                33       WA            Washington\n",
            "150                 2       WV         West Virginia\n",
            "151                 4       WI             Wisconsin\n",
            "152                 1       WY               Wyoming\n"
          ],
          "name": "stdout"
        }
      ]
    },
    {
      "metadata": {
        "id": "j6M_RCozHx6c",
        "colab_type": "text"
      },
      "cell_type": "markdown",
      "source": [
        "#### Mandatory waiting periods by state"
      ]
    },
    {
      "metadata": {
        "id": "TLlCN-6HH1wS",
        "colab_type": "text"
      },
      "cell_type": "markdown",
      "source": [
        "##### Importing database [waiting_periods]"
      ]
    },
    {
      "metadata": {
        "id": "N9Oe6LC4IAdb",
        "colab_type": "code",
        "colab": {
          "base_uri": "https://localhost:8080/",
          "height": 987
        },
        "outputId": "e89ad87d-e511-4384-a9ce-a7b7900e0d90"
      },
      "cell_type": "code",
      "source": [
        "import pandas as pd\n",
        "\n",
        "waiting_periods = pd.read_csv(\"mandatory_waiting_periods_KFF.csv\", skiprows=2)\n",
        "\n",
        "# I will check the first and last 10 records, and the column values\n",
        "print(\"1. Getting the first 5 records\")\n",
        "print(waiting_periods.head(5))\n",
        "\n",
        "print(\"2. Retrieving last 5 records\")\n",
        "print(waiting_periods.tail(5))\n",
        "\n",
        "print(\"3. Getting column values\")\n",
        "print(waiting_periods.columns)\n",
        "print(list(waiting_periods))"
      ],
      "execution_count": 66,
      "outputs": [
        {
          "output_type": "stream",
          "text": [
            "1. Getting the first 5 records\n",
            "        Location Mandatory Waiting Period  \\\n",
            "0  United States           27 States: Yes   \n",
            "1        Alabama                      Yes   \n",
            "2         Alaska                       No   \n",
            "3        Arizona                      Yes   \n",
            "4       Arkansas                      Yes   \n",
            "\n",
            "  Length of Waiting Period between Counseling and Procedure  \\\n",
            "0                                                NaN          \n",
            "1                                           48 hours          \n",
            "2                                                NaN          \n",
            "3                                           24 hours          \n",
            "4                                           48 hours          \n",
            "\n",
            "  In-Person Counseling Necessitates Two Trips to Clinic Footnotes  \n",
            "0                                     14 States: Yes          NaN  \n",
            "1                                                 No            1  \n",
            "2                                                NaN          NaN  \n",
            "3                                                Yes          NaN  \n",
            "4                                                Yes          NaN  \n",
            "2. Retrieving last 5 records\n",
            "                                             Location  \\\n",
            "68  8. The law prohibits the inclusion of weekends...   \n",
            "69  9. Enforcement of a provision of the Tennessee...   \n",
            "70  10. In person counseling is not required for w...   \n",
            "71  11. In Utah, the counseling requirement is wai...   \n",
            "72  12. In Utah, a woman may obtain abortion couns...   \n",
            "\n",
            "   Mandatory Waiting Period  \\\n",
            "68                      NaN   \n",
            "69                      NaN   \n",
            "70                      NaN   \n",
            "71                      NaN   \n",
            "72                      NaN   \n",
            "\n",
            "   Length of Waiting Period between Counseling and Procedure  \\\n",
            "68                                                NaN          \n",
            "69                                                NaN          \n",
            "70                                                NaN          \n",
            "71                                                NaN          \n",
            "72                                                NaN          \n",
            "\n",
            "   In-Person Counseling Necessitates Two Trips to Clinic Footnotes  \n",
            "68                                                NaN          NaN  \n",
            "69                                                NaN          NaN  \n",
            "70                                                NaN          NaN  \n",
            "71                                                NaN          NaN  \n",
            "72                                                NaN          NaN  \n",
            "3. Getting column values\n",
            "Index(['Location', 'Mandatory Waiting Period',\n",
            "       'Length of Waiting Period between Counseling and Procedure',\n",
            "       'In-Person Counseling Necessitates Two Trips to Clinic', 'Footnotes'],\n",
            "      dtype='object')\n",
            "['Location', 'Mandatory Waiting Period', 'Length of Waiting Period between Counseling and Procedure', 'In-Person Counseling Necessitates Two Trips to Clinic', 'Footnotes']\n"
          ],
          "name": "stdout"
        }
      ]
    },
    {
      "metadata": {
        "id": "m00e0OBQIHwU",
        "colab_type": "text"
      },
      "cell_type": "markdown",
      "source": [
        "##### Cleaning database"
      ]
    },
    {
      "metadata": {
        "id": "n3-MXFesH1bw",
        "colab_type": "code",
        "colab": {
          "base_uri": "https://localhost:8080/",
          "height": 276
        },
        "outputId": "6f929829-b780-473f-d2f5-ac78c0dcfe01"
      },
      "cell_type": "code",
      "source": [
        "# Dropping columns\n",
        "print(\"1. Dropping columns\")\n",
        "waiting_periods = waiting_periods.drop(waiting_periods.columns[[4]], axis=1) \n",
        "\n",
        "print(\"2. Renaming columns\")\n",
        "waiting_periods.columns=['state', 'waiting period', 'length waiting period', 'two trips necessary']\n",
        "\n",
        "# This dataset exported with all the different data in different rows by variable 'datum', so I need to remove the first 102\n",
        "print(\"3. dropping last 21 rows\")\n",
        "waiting_periods.drop(waiting_periods.tail(21).index,inplace=True)\n",
        "\n",
        "print(\"4. Checking dataset\")\n",
        "print(waiting_periods.tail(10))"
      ],
      "execution_count": 67,
      "outputs": [
        {
          "output_type": "stream",
          "text": [
            "1. Dropping columns\n",
            "2. Renaming columns\n",
            "3. dropping last 21 rows\n",
            "4. Checking dataset\n",
            "            state waiting period length waiting period two trips necessary\n",
            "42   South Dakota            Yes              72 hours                 Yes\n",
            "43      Tennessee            Yes              48 hours                 Yes\n",
            "44          Texas            Yes              24 hours                 Yes\n",
            "45           Utah            Yes              72 hours                 Yes\n",
            "46        Vermont             No                   NaN                 NaN\n",
            "47       Virginia            Yes              24 hours                 Yes\n",
            "48     Washington             No                   NaN                 NaN\n",
            "49  West Virginia            Yes              24 hours                  No\n",
            "50      Wisconsin            Yes              24 hours                 Yes\n",
            "51        Wyoming             No                   NaN                 NaN\n"
          ],
          "name": "stdout"
        }
      ]
    },
    {
      "metadata": {
        "id": "3mb317GxJMKL",
        "colab_type": "text"
      },
      "cell_type": "markdown",
      "source": [
        "#### State ban on so-called \"partial birth\" abortions"
      ]
    },
    {
      "metadata": {
        "id": "-Rz-kBzvJSps",
        "colab_type": "text"
      },
      "cell_type": "markdown",
      "source": [
        "##### Importing database"
      ]
    },
    {
      "metadata": {
        "id": "zLVF_hWDJXd-",
        "colab_type": "code",
        "colab": {
          "base_uri": "https://localhost:8080/",
          "height": 622
        },
        "outputId": "64d7e6f8-120b-4856-eced-df708c688082"
      },
      "cell_type": "code",
      "source": [
        "import pandas as pd\n",
        "\n",
        "partial_birth = pd.read_csv(\"partial_birth_KFF.csv\", skiprows=2)\n",
        "\n",
        "print(\"1. Previewing first 5 records\")\n",
        "print(partial_birth.head(5))\n",
        "\n",
        "print(\"2. Previewing last 5 records\")\n",
        "print(partial_birth.tail(5))"
      ],
      "execution_count": 68,
      "outputs": [
        {
          "output_type": "stream",
          "text": [
            "1. Previewing first 5 records\n",
            "        Location State Has Enacted Ban on Partial Birth Abortion?  \\\n",
            "0  United States                                   20 States: Yes   \n",
            "1        Alabama                         Enjoined or not Enforced   \n",
            "2         Alaska                         Enjoined or not Enforced   \n",
            "3        Arizona                                              Yes   \n",
            "4       Arkansas                                              Yes   \n",
            "\n",
            "  Includes an Exception to Protect the Life of the Woman Footnotes  \n",
            "0                                     18 States: Yes           NaN  \n",
            "1                                                NaN           NaN  \n",
            "2                                                NaN           NaN  \n",
            "3                                                Yes             1  \n",
            "4                                                Yes             1  \n",
            "2. Previewing last 5 records\n",
            "                                             Location  \\\n",
            "61                  1. Policy is currently in effect.   \n",
            "62                2. Law applies post-viability only.   \n",
            "63  3. This policy is presumably unenforceable und...   \n",
            "64  4. This law is temporarily enjoined pending a ...   \n",
            "65  5. The health exception only applies to severe...   \n",
            "\n",
            "   State Has Enacted Ban on Partial Birth Abortion?  \\\n",
            "61                                              NaN   \n",
            "62                                              NaN   \n",
            "63                                              NaN   \n",
            "64                                              NaN   \n",
            "65                                              NaN   \n",
            "\n",
            "   Includes an Exception to Protect the Life of the Woman Footnotes  \n",
            "61                                                NaN           NaN  \n",
            "62                                                NaN           NaN  \n",
            "63                                                NaN           NaN  \n",
            "64                                                NaN           NaN  \n",
            "65                                                NaN           NaN  \n"
          ],
          "name": "stdout"
        }
      ]
    },
    {
      "metadata": {
        "id": "yOgXnXgUJUDy",
        "colab_type": "text"
      },
      "cell_type": "markdown",
      "source": [
        "##### Cleaning database"
      ]
    },
    {
      "metadata": {
        "id": "fMPhwFdfJzf2",
        "colab_type": "code",
        "colab": {
          "base_uri": "https://localhost:8080/",
          "height": 220
        },
        "outputId": "f1bf8df7-18d2-404e-c6cf-60112b9ad6c4"
      },
      "cell_type": "code",
      "source": [
        "partial_birth = partial_birth.drop(partial_birth.tail(21).index,inplace=True)\n",
        "\n",
        "print(partial_birth.tail(5))"
      ],
      "execution_count": 69,
      "outputs": [
        {
          "output_type": "error",
          "ename": "AttributeError",
          "evalue": "ignored",
          "traceback": [
            "\u001b[0;31m---------------------------------------------------------------------------\u001b[0m",
            "\u001b[0;31mAttributeError\u001b[0m                            Traceback (most recent call last)",
            "\u001b[0;32m<ipython-input-69-cbc354746aa1>\u001b[0m in \u001b[0;36m<module>\u001b[0;34m()\u001b[0m\n\u001b[1;32m      1\u001b[0m \u001b[0mpartial_birth\u001b[0m \u001b[0;34m=\u001b[0m \u001b[0mpartial_birth\u001b[0m\u001b[0;34m.\u001b[0m\u001b[0mdrop\u001b[0m\u001b[0;34m(\u001b[0m\u001b[0mpartial_birth\u001b[0m\u001b[0;34m.\u001b[0m\u001b[0mtail\u001b[0m\u001b[0;34m(\u001b[0m\u001b[0;36m21\u001b[0m\u001b[0;34m)\u001b[0m\u001b[0;34m.\u001b[0m\u001b[0mindex\u001b[0m\u001b[0;34m,\u001b[0m\u001b[0minplace\u001b[0m\u001b[0;34m=\u001b[0m\u001b[0;32mTrue\u001b[0m\u001b[0;34m)\u001b[0m\u001b[0;34m\u001b[0m\u001b[0;34m\u001b[0m\u001b[0m\n\u001b[1;32m      2\u001b[0m \u001b[0;34m\u001b[0m\u001b[0m\n\u001b[0;32m----> 3\u001b[0;31m \u001b[0mprint\u001b[0m\u001b[0;34m(\u001b[0m\u001b[0mpartial_birth\u001b[0m\u001b[0;34m.\u001b[0m\u001b[0mtail\u001b[0m\u001b[0;34m(\u001b[0m\u001b[0;36m5\u001b[0m\u001b[0;34m)\u001b[0m\u001b[0;34m)\u001b[0m\u001b[0;34m\u001b[0m\u001b[0;34m\u001b[0m\u001b[0m\n\u001b[0m",
            "\u001b[0;31mAttributeError\u001b[0m: 'NoneType' object has no attribute 'tail'"
          ]
        }
      ]
    },
    {
      "metadata": {
        "id": "07a2mLODKSny",
        "colab_type": "text"
      },
      "cell_type": "markdown",
      "source": [
        "### Health care coverage variables"
      ]
    },
    {
      "metadata": {
        "id": "PTi7skNTKVkW",
        "colab_type": "text"
      },
      "cell_type": "markdown",
      "source": [
        "#### Dataset 1: medicaid expansion by state\n",
        "\n",
        "https://www.kff.org/health-reform/state-indicator/state-activity-around-expanding-medicaid-under-the-affordable-care-act/?currentTimeframe=0&sortModel=%7B%22colId%22:%22Location%22,%22sort%22:%22asc%22%7D"
      ]
    },
    {
      "metadata": {
        "id": "PviX8nxxKY2y",
        "colab_type": "text"
      },
      "cell_type": "markdown",
      "source": [
        "##### Importing dataset [medicaid_exp]"
      ]
    },
    {
      "metadata": {
        "id": "9qGvifsgOnqg",
        "colab_type": "code",
        "colab": {
          "base_uri": "https://localhost:8080/",
          "height": 380
        },
        "outputId": "962902a9-9aaa-470d-a637-5d280805e718"
      },
      "cell_type": "code",
      "source": [
        "import pandas as pd\n",
        "\n",
        "medicaid_exp = pd.read_csv(\"medicaid_expansion_by_state.csv\", skiprows=2)\n",
        "\n",
        "print(\"1. Previewing first 5 records\")\n",
        "print(medicaid_exp.head(5))\n",
        "\n",
        "print(\"2. Previewing last 5 records\")\n",
        "print(medicaid_exp.tail(5))"
      ],
      "execution_count": 70,
      "outputs": [
        {
          "output_type": "stream",
          "text": [
            "1. Previewing first 5 records\n",
            "        Location      Current Status of Medicaid Expansion Decision Footnotes\n",
            "0  United States  Adopted-37 states (incl. DC); Not Adopted-14 s...       NaN\n",
            "1        Alabama                                        Not Adopted       NaN\n",
            "2         Alaska                                            Adopted         1\n",
            "3        Arizona                                            Adopted         2\n",
            "4       Arkansas                                            Adopted         2\n",
            "2. Previewing last 5 records\n",
            "                                             Location  \\\n",
            "64  6. On April 18, 2019, the Montana Legislature ...   \n",
            "65  7. Nebraska voters approved a Medicaid expansi...   \n",
            "66  8. Utah voters passed a ballot measure in Nove...   \n",
            "67  9. The Virginia General Assembly approved Medi...   \n",
            "68  10. Wisconsin covers adults up to 100% FPL in ...   \n",
            "\n",
            "   Current Status of Medicaid Expansion Decision Footnotes  \n",
            "64                                           NaN       NaN  \n",
            "65                                           NaN       NaN  \n",
            "66                                           NaN       NaN  \n",
            "67                                           NaN       NaN  \n",
            "68                                           NaN       NaN  \n"
          ],
          "name": "stdout"
        }
      ]
    },
    {
      "metadata": {
        "id": "236E26BkKaUN",
        "colab_type": "text"
      },
      "cell_type": "markdown",
      "source": [
        "##### Cleaning dataset"
      ]
    },
    {
      "metadata": {
        "id": "w0nrmsALO52w",
        "colab_type": "code",
        "colab": {
          "base_uri": "https://localhost:8080/",
          "height": 276
        },
        "outputId": "56533837-dd3b-435a-8a5a-514588cb9dfd"
      },
      "cell_type": "code",
      "source": [
        "# Dropping columns\n",
        "print(\"1. Dropping columns\")\n",
        "medicaid_exp = medicaid_exp.drop(medicaid_exp.columns[[2]], axis=1) \n",
        "\n",
        "print(\"2. Renaming columns\")\n",
        "medicaid_exp.columns=['state', 'medicaid expanded']\n",
        "\n",
        "# This dataset exported with all the different data in different rows by variable 'datum', so I need to remove the first 102\n",
        "print(\"3. dropping last 17 rows\")\n",
        "medicaid_exp.drop(medicaid_exp.tail(17).index,inplace=True)\n",
        "\n",
        "print(\"4. Checking dataset\")\n",
        "print(medicaid_exp.tail(10))"
      ],
      "execution_count": 46,
      "outputs": [
        {
          "output_type": "stream",
          "text": [
            "1. Dropping columns\n",
            "2. Renaming columns\n",
            "3. dropping last 17 rows\n",
            "4. Checking dataset\n",
            "            state medicaid expanded\n",
            "42   South Dakota       Not Adopted\n",
            "43      Tennessee       Not Adopted\n",
            "44          Texas       Not Adopted\n",
            "45           Utah           Adopted\n",
            "46        Vermont           Adopted\n",
            "47       Virginia           Adopted\n",
            "48     Washington           Adopted\n",
            "49  West Virginia           Adopted\n",
            "50      Wisconsin       Not Adopted\n",
            "51        Wyoming       Not Adopted\n"
          ],
          "name": "stdout"
        }
      ]
    },
    {
      "metadata": {
        "id": "xjViP761KcEx",
        "colab_type": "text"
      },
      "cell_type": "markdown",
      "source": [
        "#### Dataset 2: insurance rates by state"
      ]
    },
    {
      "metadata": {
        "id": "KQk9A2JJPJtE",
        "colab_type": "code",
        "colab": {
          "base_uri": "https://localhost:8080/",
          "height": 2194
        },
        "outputId": "a61515e0-f9f7-4f1d-c5a9-c74dad23bd31"
      },
      "cell_type": "code",
      "source": [
        "import pandas as pd\n",
        "\n",
        "import pandas as pd\n",
        "\n",
        "state_insurance = pd.read_csv(\"state_insurance.csv\")\n",
        "\n",
        "print(\"1. Previewing first 5 records\")\n",
        "print(state_insurance.head(5))\n",
        "\n",
        "print(\"2. Previewing last 5 records\")\n",
        "print(state_insurance.tail(5))"
      ],
      "execution_count": 71,
      "outputs": [
        {
          "output_type": "stream",
          "text": [
            "1. Previewing first 5 records\n",
            "        State Uninsured Rate (2010) Uninsured Rate (2015)  \\\n",
            "0    Alabama                  14.6%                 10.1%   \n",
            "1     Alaska                  19.9%                 14.9%   \n",
            "2    Arizona                  16.9%                 10.8%   \n",
            "3   Arkansas                  17.5%                  9.5%   \n",
            "4  California                 18.5%                  8.6%   \n",
            "\n",
            "  Uninsured Rate Change (2010-2015)  \\\n",
            "0                            -4.5%    \n",
            "1                              -5%    \n",
            "2                            -6.1%    \n",
            "3                              -8%    \n",
            "4                            -9.9%    \n",
            "\n",
            "   Health Insurance Coverage Change (2010-2015)  \\\n",
            "0                                        215000   \n",
            "1                                         36000   \n",
            "2                                        410000   \n",
            "3                                        234000   \n",
            "4                                       3826000   \n",
            "\n",
            "   Employer Health Insurance Coverage (2015)  \\\n",
            "0                                    2545000   \n",
            "1                                     390000   \n",
            "2                                    3288000   \n",
            "3                                    1365000   \n",
            "4                                   19552000   \n",
            "\n",
            "   Marketplace Health Insurance Coverage (2016)  \\\n",
            "0                                        165534   \n",
            "1                                         17995   \n",
            "2                                        179445   \n",
            "3                                         63357   \n",
            "4                                       1415428   \n",
            "\n",
            "   Marketplace Tax Credits (2016) Average Monthly Tax Credit (2016)  \\\n",
            "0                          152206                             $310    \n",
            "1                           16205                             $750    \n",
            "2                          124346                             $230    \n",
            "3                           56843                             $306    \n",
            "4                         1239893                             $309    \n",
            "\n",
            "  State Medicaid Expansion (2016)  Medicaid Enrollment (2013)  \\\n",
            "0                           False                    799176.0   \n",
            "1                            True                    122334.0   \n",
            "2                            True                   1201770.0   \n",
            "3                            True                    556851.0   \n",
            "4                            True                   7755381.0   \n",
            "\n",
            "   Medicaid Enrollment (2016)  Medicaid Enrollment Change (2013-2016)  \\\n",
            "0                      910775                                111599.0   \n",
            "1                      166625                                 44291.0   \n",
            "2                     1716198                                514428.0   \n",
            "3                      920194                                363343.0   \n",
            "4                    11843081                               4087700.0   \n",
            "\n",
            "   Medicare Enrollment (2016)  \n",
            "0                      989855  \n",
            "1                       88966  \n",
            "2                     1175624  \n",
            "3                      606146  \n",
            "4                     5829777  \n",
            "2. Previewing last 5 records\n",
            "             State Uninsured Rate (2010) Uninsured Rate (2015)  \\\n",
            "47      Washington                 14.2%                  6.6%   \n",
            "48  West Virginia                  14.6%                    6%   \n",
            "49      Wisconsin                   9.4%                  5.7%   \n",
            "50         Wyoming                 14.9%                 11.5%   \n",
            "51   United States                 15.5%                  9.4%   \n",
            "\n",
            "   Uninsured Rate Change (2010-2015)  \\\n",
            "47                            -7.6%    \n",
            "48                            -8.6%    \n",
            "49                            -3.7%    \n",
            "50                            -3.4%    \n",
            "51                              6.1%   \n",
            "\n",
            "    Health Insurance Coverage Change (2010-2015)  \\\n",
            "47                                        537000   \n",
            "48                                        156000   \n",
            "49                                        211000   \n",
            "50                                         20000   \n",
            "51                                      19304000   \n",
            "\n",
            "    Employer Health Insurance Coverage (2015)  \\\n",
            "47                                    3986000   \n",
            "48                                     976000   \n",
            "49                                    3521000   \n",
            "50                                     335000   \n",
            "51                                  172292000   \n",
            "\n",
            "    Marketplace Health Insurance Coverage (2016)  \\\n",
            "47                                        158245   \n",
            "48                                         33235   \n",
            "49                                        224208   \n",
            "50                                         22076   \n",
            "51                                      11081330   \n",
            "\n",
            "    Marketplace Tax Credits (2016) Average Monthly Tax Credit (2016)  \\\n",
            "47                          110476                             $238    \n",
            "48                           29163                             $388    \n",
            "49                          190542                             $332    \n",
            "50                           20313                             $459    \n",
            "51                         9389609                             $291    \n",
            "\n",
            "   State Medicaid Expansion (2016)  Medicaid Enrollment (2013)  \\\n",
            "47                            True                   1117576.0   \n",
            "48                            True                    354544.0   \n",
            "49                           False                    985531.0   \n",
            "50                           False                     67518.0   \n",
            "51                             NaN                  56392477.0   \n",
            "\n",
            "    Medicaid Enrollment (2016)  Medicaid Enrollment Change (2013-2016)  \\\n",
            "47                     1788536                                670960.0   \n",
            "48                      575645                                221101.0   \n",
            "49                     1046897                                 61366.0   \n",
            "50                       63583                                 -3935.0   \n",
            "51                    73532931                              16106157.0   \n",
            "\n",
            "    Medicare Enrollment (2016)  \n",
            "47                     1238649  \n",
            "48                      423500  \n",
            "49                     1084854  \n",
            "50                       99128  \n",
            "51                    57149984  \n"
          ],
          "name": "stdout"
        }
      ]
    },
    {
      "metadata": {
        "id": "fS94MwUSiA7d",
        "colab_type": "text"
      },
      "cell_type": "markdown",
      "source": [
        "### Political/demographic variables\n",
        "\n"
      ]
    },
    {
      "metadata": {
        "id": "pqyg6-zOKf2D",
        "colab_type": "text"
      },
      "cell_type": "markdown",
      "source": [
        "#### Poverty/insurance rates"
      ]
    },
    {
      "metadata": {
        "id": "YVV1ACamPY-Y",
        "colab_type": "code",
        "colab": {
          "base_uri": "https://localhost:8080/",
          "height": 1609
        },
        "outputId": "89cb8edf-af4c-43e1-d04f-4ab69ef2a6d6"
      },
      "cell_type": "code",
      "source": [
        "import pandas as pd\n",
        "\n",
        "CPS_poverty = pd.read_csv(\"CPS_poverty_ins_cov.csv\")\n",
        "\n",
        "# Previewing first and last 5 and the column values\n",
        "print(\"1. Printing first 5 columns\")\n",
        "print(CPS_poverty.head(5))\n",
        "\n",
        "print(\"2. Printing last 5 columns\")\n",
        "print(CPS_poverty.tail(5))\n",
        "\n",
        "print(\"3. Getting column values\")\n",
        "print(CPS_poverty.columns)\n",
        "print(list(CPS_poverty))"
      ],
      "execution_count": 73,
      "outputs": [
        {
          "output_type": "stream",
          "text": [
            "1. Printing first 5 columns\n",
            "  State Poverty status: total pop In poverty in 2017 Not in poverty in 2017  \\\n",
            "0   NaN                   322,549             39,698                282,851   \n",
            "1   NaN                     4,806                723                  4,083   \n",
            "2    AL                       NaN                NaN                    NaN   \n",
            "3    AK                       717                103                    614   \n",
            "4    AZ                     6,990                926                  6,064   \n",
            "\n",
            "  Total insured In poverty and insured  Not in poverty and insured  \\\n",
            "0       294,044                  32,950                    261,094   \n",
            "1         4,276                     579                      3,698   \n",
            "2           NaN                     NaN                        NaN   \n",
            "3           627                      87                        540   \n",
            "4         6,323                     773                      5,550   \n",
            "\n",
            "  Total uninsured In poverty and uninsured Not in poverty and uninsured  ...  \\\n",
            "0          28,505                    6,748                       21,757  ...   \n",
            "1             529                      144                          385  ...   \n",
            "2             NaN                      NaN                          NaN  ...   \n",
            "3              90                       16                           74  ...   \n",
            "4             667                      153                          514  ...   \n",
            "\n",
            "   Unnamed: 12  Unnamed: 13  Unnamed: 14  Unnamed: 15  Unnamed: 16  \\\n",
            "0          NaN          NaN          NaN          NaN          NaN   \n",
            "1          NaN          NaN          NaN          NaN          NaN   \n",
            "2          NaN          NaN          NaN          NaN          NaN   \n",
            "3          NaN          NaN          NaN          NaN          NaN   \n",
            "4          NaN          NaN          NaN          NaN          NaN   \n",
            "\n",
            "   Unnamed: 17  Unnamed: 18  Unnamed: 19  Unnamed: 20  Unnamed: 21  \n",
            "0          NaN          NaN          NaN          NaN          NaN  \n",
            "1          NaN          NaN          NaN          NaN          NaN  \n",
            "2          NaN          NaN          NaN          NaN          NaN  \n",
            "3          NaN          NaN          NaN          NaN          NaN  \n",
            "4          NaN          NaN          NaN          NaN          NaN  \n",
            "\n",
            "[5 rows x 22 columns]\n",
            "2. Printing last 5 columns\n",
            "                                                State  \\\n",
            "53                                                NaN   \n",
            "54  Inferences should be made with extreme caution...   \n",
            "55  Some CPS questions, such as income, ask about ...   \n",
            "56  Current Population Survey, Annual Social and E...   \n",
            "57                         Source: U.S. Census Bureau   \n",
            "\n",
            "   Poverty status: total pop In poverty in 2017 Not in poverty in 2017  \\\n",
            "53                       NaN                NaN                    NaN   \n",
            "54                       NaN                NaN                    NaN   \n",
            "55                       NaN                NaN                    NaN   \n",
            "56                       NaN                NaN                    NaN   \n",
            "57                       NaN                NaN                    NaN   \n",
            "\n",
            "   Total insured In poverty and insured  Not in poverty and insured  \\\n",
            "53           NaN                     NaN                        NaN   \n",
            "54           NaN                     NaN                        NaN   \n",
            "55           NaN                     NaN                        NaN   \n",
            "56           NaN                     NaN                        NaN   \n",
            "57           NaN                     NaN                        NaN   \n",
            "\n",
            "   Total uninsured In poverty and uninsured Not in poverty and uninsured  ...  \\\n",
            "53             NaN                      NaN                          NaN  ...   \n",
            "54             NaN                      NaN                          NaN  ...   \n",
            "55             NaN                      NaN                          NaN  ...   \n",
            "56             NaN                      NaN                          NaN  ...   \n",
            "57             NaN                      NaN                          NaN  ...   \n",
            "\n",
            "    Unnamed: 12  Unnamed: 13  Unnamed: 14  Unnamed: 15  Unnamed: 16  \\\n",
            "53          NaN          NaN          NaN          NaN          NaN   \n",
            "54          NaN          NaN          NaN          NaN          NaN   \n",
            "55          NaN          NaN          NaN          NaN          NaN   \n",
            "56          NaN          NaN          NaN          NaN          NaN   \n",
            "57          NaN          NaN          NaN          NaN          NaN   \n",
            "\n",
            "    Unnamed: 17  Unnamed: 18  Unnamed: 19  Unnamed: 20  Unnamed: 21  \n",
            "53          NaN          NaN          NaN          NaN          NaN  \n",
            "54          NaN          NaN          NaN          NaN          NaN  \n",
            "55          NaN          NaN          NaN          NaN          NaN  \n",
            "56          NaN          NaN          NaN          NaN          NaN  \n",
            "57          NaN          NaN          NaN          NaN          NaN  \n",
            "\n",
            "[5 rows x 22 columns]\n",
            "3. Getting column values\n",
            "Index(['State', 'Poverty status: total pop', 'In poverty in 2017',\n",
            "       'Not in poverty in 2017', 'Total insured', 'In poverty and insured ',\n",
            "       'Not in poverty and insured', 'Total uninsured',\n",
            "       'In poverty and uninsured', 'Not in poverty and uninsured',\n",
            "       'Unnamed: 10', 'Unnamed: 11', 'Unnamed: 12', 'Unnamed: 13',\n",
            "       'Unnamed: 14', 'Unnamed: 15', 'Unnamed: 16', 'Unnamed: 17',\n",
            "       'Unnamed: 18', 'Unnamed: 19', 'Unnamed: 20', 'Unnamed: 21'],\n",
            "      dtype='object')\n",
            "['State', 'Poverty status: total pop', 'In poverty in 2017', 'Not in poverty in 2017', 'Total insured', 'In poverty and insured ', 'Not in poverty and insured', 'Total uninsured', 'In poverty and uninsured', 'Not in poverty and uninsured', 'Unnamed: 10', 'Unnamed: 11', 'Unnamed: 12', 'Unnamed: 13', 'Unnamed: 14', 'Unnamed: 15', 'Unnamed: 16', 'Unnamed: 17', 'Unnamed: 18', 'Unnamed: 19', 'Unnamed: 20', 'Unnamed: 21']\n"
          ],
          "name": "stdout"
        }
      ]
    },
    {
      "metadata": {
        "id": "gL-NbvGWRQZQ",
        "colab_type": "text"
      },
      "cell_type": "markdown",
      "source": [
        "##### Cleaning dataset"
      ]
    },
    {
      "metadata": {
        "id": "lXDBAjA7RTa_",
        "colab_type": "code",
        "colab": {}
      },
      "cell_type": "code",
      "source": [
        "# Dropping columns 10-18"
      ],
      "execution_count": 0,
      "outputs": []
    },
    {
      "metadata": {
        "id": "fbXw3dGjKiVq",
        "colab_type": "text"
      },
      "cell_type": "markdown",
      "source": [
        "#### Voting behavior in state"
      ]
    },
    {
      "metadata": {
        "id": "mcxR46u5PtDn",
        "colab_type": "text"
      },
      "cell_type": "markdown",
      "source": [
        "##### Importing dataset"
      ]
    },
    {
      "metadata": {
        "id": "SThhFv5TPvlu",
        "colab_type": "code",
        "colab": {
          "base_uri": "https://localhost:8080/",
          "height": 642
        },
        "outputId": "0cf0e29f-9e96-4b20-f794-26cfa434b1ef"
      },
      "cell_type": "code",
      "source": [
        "import pandas as pd\n",
        "\n",
        "voting = pd.read_csv(\"1976-2016-president.csv\")\n",
        "\n",
        "print(voting.tail(10))"
      ],
      "execution_count": 51,
      "outputs": [
        {
          "output_type": "stream",
          "text": [
            "      year      state state_po  state_fips  state_cen  state_ic        office  \\\n",
            "3730  2016  Wisconsin       WI          55         35        25  US President   \n",
            "3731  2016  Wisconsin       WI          55         35        25  US President   \n",
            "3732  2016    Wyoming       WY          56         83        68  US President   \n",
            "3733  2016    Wyoming       WY          56         83        68  US President   \n",
            "3734  2016    Wyoming       WY          56         83        68  US President   \n",
            "3735  2016    Wyoming       WY          56         83        68  US President   \n",
            "3736  2016    Wyoming       WY          56         83        68  US President   \n",
            "3737  2016    Wyoming       WY          56         83        68  US President   \n",
            "3738  2016    Wyoming       WY          56         83        68  US President   \n",
            "3739  2016    Wyoming       WY          56         83        68  US President   \n",
            "\n",
            "                        candidate                 party  writein  \\\n",
            "3730            Moorehead, Monica   workers world party    False   \n",
            "3731  De La Fuente, Roque \"Rocky\"  american delta party    False   \n",
            "3732             Trump, Donald J.            republican    False   \n",
            "3733             Clinton, Hillary              democrat    False   \n",
            "3734                Johnson, Gary           libertarian    False   \n",
            "3735                          NaN                   NaN     True   \n",
            "3736                          NaN           independent    False   \n",
            "3737                   Blank Vote                   NaN    False   \n",
            "3738           Castle, Darrell L.    constitution party    False   \n",
            "3739                    Over Vote                   NaN    False   \n",
            "\n",
            "      candidatevotes  totalvotes   version  notes  \n",
            "3730            1770     2976150  20171015    NaN  \n",
            "3731            1502     2976150  20171015    NaN  \n",
            "3732          174419      258788  20171015    NaN  \n",
            "3733           55973      258788  20171015    NaN  \n",
            "3734           13287      258788  20171015    NaN  \n",
            "3735            6904      258788  20171015    NaN  \n",
            "3736            3224      258788  20171015    NaN  \n",
            "3737            2661      258788  20171015    NaN  \n",
            "3738            2042      258788  20171015    NaN  \n",
            "3739             278      258788  20171015    NaN  \n"
          ],
          "name": "stdout"
        }
      ]
    },
    {
      "metadata": {
        "id": "YF5QgNiBPucz",
        "colab_type": "text"
      },
      "cell_type": "markdown",
      "source": [
        "##### Cleaning dataset"
      ]
    },
    {
      "metadata": {
        "id": "CnDXC4aZQDKd",
        "colab_type": "text"
      },
      "cell_type": "markdown",
      "source": [
        "#### State GDP"
      ]
    },
    {
      "metadata": {
        "id": "AbTKtROwyLLn",
        "colab_type": "text"
      },
      "cell_type": "markdown",
      "source": [
        "## Merging datasets"
      ]
    },
    {
      "metadata": {
        "id": "0AYWth959yF3",
        "colab_type": "text"
      },
      "cell_type": "markdown",
      "source": [
        "### Abortion provision datasets"
      ]
    },
    {
      "metadata": {
        "id": "-OGGpf94LBZ0",
        "colab_type": "code",
        "colab": {
          "base_uri": "https://localhost:8080/",
          "height": 397
        },
        "outputId": "0ad876dc-bc6d-492a-bed4-66cc461f2f21"
      },
      "cell_type": "code",
      "source": [
        "\n",
        "cpcs_ab = abortion_providers.merge(cpcs_bystate.to_frame(), right_on='state', left_on='state_id', how=\"outer\")\n",
        "\n",
        "print(\"2. Retrieving last 10 records\")\n",
        "print(cpcs_ab.tail(20))"
      ],
      "execution_count": 138,
      "outputs": [
        {
          "output_type": "stream",
          "text": [
            "2. Retrieving last 10 records\n",
            "    number providers state_id           state  CPC name\n",
            "31                 9       NM      New Mexico        24\n",
            "32                95       NY        New York       112\n",
            "33                16       NC  North Carolina        87\n",
            "34                 1       ND    North Dakota         6\n",
            "35                12       OH            Ohio       124\n",
            "36                 3       OK        Oklahoma        43\n",
            "37                15       OR          Oregon        45\n",
            "38                20       PA    Pennsylvania       138\n",
            "39                 3       RI    Rhode Island         4\n",
            "40                 3       SC  South Carolina        36\n",
            "41                 1       SD    South Dakota        11\n",
            "42                 7       TN       Tennessee        54\n",
            "43                28       TX           Texas       180\n",
            "44                 2       UT            Utah         6\n",
            "45                 6       VT         Vermont         9\n",
            "46                18       VA        Virginia        53\n",
            "47                33       WA      Washington        56\n",
            "48                 2       WV   West Virginia        20\n",
            "49                 4       WI       Wisconsin        62\n",
            "50                 1       WY         Wyoming        11\n"
          ],
          "name": "stdout"
        }
      ]
    },
    {
      "metadata": {
        "id": "A42qQyj58lZB",
        "colab_type": "code",
        "outputId": "e7fe28e4-34d6-4766-8371-7e25a789bbde",
        "colab": {
          "base_uri": "https://localhost:8080/",
          "height": 953
        }
      },
      "cell_type": "code",
      "source": [
        "cpcs_abs = cpcs_ab.merge(abortions_bystate, on='state', how=\"outer\")\n",
        "print(\"1. Getting the first 10 records\")\n",
        "print(cpcs_abs.head(10))\n",
        "\n",
        "print(\"2. Retrieving last 10 records\")\n",
        "print(cpcs_abs.tail(10))\n",
        "\n",
        "print(\"3. Getting column values\")\n",
        "print(cpcs_abs.columns)\n",
        "print(list(cpcs_abs))"
      ],
      "execution_count": 139,
      "outputs": [
        {
          "output_type": "stream",
          "text": [
            "1. Getting the first 10 records\n",
            "   number providers state_id_x                 state  CPC name  \\\n",
            "0                 5         AL               Alabama        50   \n",
            "1                 3         AK                Alaska        10   \n",
            "2                 9         AZ               Arizona        48   \n",
            "3                 3         AR              Arkansas        45   \n",
            "4               152         CA            California       172   \n",
            "5                21         CO              Colorado        60   \n",
            "6                25         CT           Connecticut        20   \n",
            "7                 3         DE              Delaware         8   \n",
            "8                 5         DC  District of Columbia         3   \n",
            "9                71         FL               Florida       157   \n",
            "\n",
            "   number abortions state_id_y  \n",
            "0            8020.0         AL  \n",
            "1            1470.0         AK  \n",
            "2           12870.0         AZ  \n",
            "3            4590.0         AR  \n",
            "4          157350.0         CA  \n",
            "5           13160.0         CO  \n",
            "6           13140.0         CT  \n",
            "7            3010.0         DE  \n",
            "8            5820.0         DC  \n",
            "9           75990.0         FL  \n",
            "2. Retrieving last 10 records\n",
            "    number providers state_id_x          state  CPC name  number abortions  \\\n",
            "41                 1         SD   South Dakota        11             550.0   \n",
            "42                 7         TN      Tennessee        54           13880.0   \n",
            "43                28         TX          Texas       180           55230.0   \n",
            "44                 2         UT           Utah         6            2960.0   \n",
            "45                 6         VT        Vermont         9            1400.0   \n",
            "46                18         VA       Virginia        53           21080.0   \n",
            "47                33         WA     Washington        56           19230.0   \n",
            "48                 2         WV  West Virginia        20            2020.0   \n",
            "49                 4         WI      Wisconsin        62            6050.0   \n",
            "50                 1         WY        Wyoming        11             120.0   \n",
            "\n",
            "   state_id_y  \n",
            "41         SD  \n",
            "42         TN  \n",
            "43         TX  \n",
            "44         UT  \n",
            "45         VT  \n",
            "46         VA  \n",
            "47         WA  \n",
            "48         WV  \n",
            "49         WI  \n",
            "50         WY  \n",
            "3. Getting column values\n",
            "Index(['number providers', 'state_id_x', 'state', 'CPC name',\n",
            "       'number abortions', 'state_id_y'],\n",
            "      dtype='object')\n",
            "['number providers', 'state_id_x', 'state', 'CPC name', 'number abortions', 'state_id_y']\n"
          ],
          "name": "stdout"
        }
      ]
    },
    {
      "metadata": {
        "id": "GU-xbRItHVwh",
        "colab_type": "code",
        "colab": {
          "base_uri": "https://localhost:8080/",
          "height": 1609
        },
        "outputId": "1742188f-706d-4a2d-da94-b4650543653e"
      },
      "cell_type": "code",
      "source": [
        "cpcs_ab2 = cpcs_abs.merge(gest_age, on='state', how=\"outer\")\n",
        "print(\"1. Getting the first 10 records\")\n",
        "print(cpcs_ab2.head(10))\n",
        "\n",
        "print(\"2. Retrieving last 10 records\")\n",
        "print(cpcs_ab2.tail(10))\n",
        "\n",
        "print(\"3. Getting column values\")\n",
        "print(cpcs_ab2.columns)\n",
        "print(list(cpcs_ab2))"
      ],
      "execution_count": 140,
      "outputs": [
        {
          "output_type": "stream",
          "text": [
            "1. Getting the first 10 records\n",
            "   number providers state_id_x                 state  CPC name  \\\n",
            "0               5.0         AL               Alabama      50.0   \n",
            "1               3.0         AK                Alaska      10.0   \n",
            "2               9.0         AZ               Arizona      48.0   \n",
            "3               3.0         AR              Arkansas      45.0   \n",
            "4             152.0         CA            California     172.0   \n",
            "5              21.0         CO              Colorado      60.0   \n",
            "6              25.0         CT           Connecticut      20.0   \n",
            "7               3.0         DE              Delaware       8.0   \n",
            "8               5.0         DC  District of Columbia       3.0   \n",
            "9              71.0         FL               Florida     157.0   \n",
            "\n",
            "   number abortions state_id_y  \\\n",
            "0            8020.0         AL   \n",
            "1            1470.0         AK   \n",
            "2           12870.0         AZ   \n",
            "3            4590.0         AR   \n",
            "4          157350.0         CA   \n",
            "5           13160.0         CO   \n",
            "6           13140.0         CT   \n",
            "7            3010.0         DE   \n",
            "8            5820.0         DC   \n",
            "9           75990.0         FL   \n",
            "\n",
            "  state prohibits some abortions after certain pt in pregnancy  \\\n",
            "0                                                Yes             \n",
            "1                                                 No             \n",
            "2                                                Yes             \n",
            "3                                                Yes             \n",
            "4                                                Yes             \n",
            "5                                                 No             \n",
            "6                                                Yes             \n",
            "7                                                Yes             \n",
            "8                                                 No             \n",
            "9                                                Yes             \n",
            "\n",
            "            gestational limit when is later abortion permitted  \n",
            "0  20 weeks postfertilization         Life and physical health  \n",
            "1                         NaN                              NaN  \n",
            "2             Fetal viability                  Life and health  \n",
            "3  20 weeks postfertilization         Life and physical health  \n",
            "4             Fetal viability                  Life and health  \n",
            "5                         NaN                              NaN  \n",
            "6             Fetal viability                  Life and health  \n",
            "7             Fetal viability                  Life and health  \n",
            "8                         NaN                              NaN  \n",
            "9                24 weeks LMP                  Life and health  \n",
            "2. Retrieving last 10 records\n",
            "    number providers state_id_x          state  CPC name  number abortions  \\\n",
            "42               7.0         TN      Tennessee      54.0           13880.0   \n",
            "43              28.0         TX          Texas     180.0           55230.0   \n",
            "44               2.0         UT           Utah       6.0            2960.0   \n",
            "45               6.0         VT        Vermont       9.0            1400.0   \n",
            "46              18.0         VA       Virginia      53.0           21080.0   \n",
            "47              33.0         WA     Washington      56.0           19230.0   \n",
            "48               2.0         WV  West Virginia      20.0            2020.0   \n",
            "49               4.0         WI      Wisconsin      62.0            6050.0   \n",
            "50               1.0         WY        Wyoming      11.0             120.0   \n",
            "51               NaN        NaN  United States       NaN               NaN   \n",
            "\n",
            "   state_id_y state prohibits some abortions after certain pt in pregnancy  \\\n",
            "42         TN                                                Yes             \n",
            "43         TX                                                Yes             \n",
            "44         UT                                                Yes             \n",
            "45         VT                                                 No             \n",
            "46         VA                                                Yes             \n",
            "47         WA                                                Yes             \n",
            "48         WV                                                Yes             \n",
            "49         WI                                                Yes             \n",
            "50         WY                                                Yes             \n",
            "51        NaN                                             43 Yes             \n",
            "\n",
            "             gestational limit when is later abortion permitted  \n",
            "42             Fetal viability                  Life and health  \n",
            "43  20 weeks postfertilization         Life and physical health  \n",
            "44             Fetal viability                  Life and health  \n",
            "45                         NaN                              NaN  \n",
            "46           3rd trimester LMP                  Life and health  \n",
            "47             Fetal viability                  Life and health  \n",
            "48                22 weeks LMP         Life and physical health  \n",
            "49  20 weeks postfertilization                  Life and health  \n",
            "50             Fetal viability                  Life and health  \n",
            "51                         NaN                              NaN  \n",
            "3. Getting column values\n",
            "Index(['number providers', 'state_id_x', 'state', 'CPC name',\n",
            "       'number abortions', 'state_id_y',\n",
            "       'state prohibits some abortions after certain pt in pregnancy',\n",
            "       'gestational limit', 'when is later abortion permitted'],\n",
            "      dtype='object')\n",
            "['number providers', 'state_id_x', 'state', 'CPC name', 'number abortions', 'state_id_y', 'state prohibits some abortions after certain pt in pregnancy', 'gestational limit', 'when is later abortion permitted']\n"
          ],
          "name": "stdout"
        }
      ]
    },
    {
      "metadata": {
        "id": "OLmGluUQHh4s",
        "colab_type": "code",
        "colab": {
          "base_uri": "https://localhost:8080/",
          "height": 2041
        },
        "outputId": "4ef8666c-2454-4f00-e448-b0d06c80f9df"
      },
      "cell_type": "code",
      "source": [
        "cpcs_ab3 = cpcs_ab2.merge(ultrasounds, on='state', how=\"outer\")\n",
        "print(\"1. Getting the first 10 records\")\n",
        "print(cpcs_ab3.head(10))\n",
        "\n",
        "print(\"2. Retrieving last 10 records\")\n",
        "print(cpcs_ab3.tail(10))\n",
        "\n",
        "print(\"3. Getting column values\")\n",
        "print(cpcs_ab3.columns)\n",
        "print(list(cpcs_ab3))\n",
        "\n",
        "cpcs_ab3.to_csv(\"cpcs_abortion.csv\")"
      ],
      "execution_count": 141,
      "outputs": [
        {
          "output_type": "stream",
          "text": [
            "1. Getting the first 10 records\n",
            "   number providers state_id_x                 state  CPC name  \\\n",
            "0               5.0         AL               Alabama      50.0   \n",
            "1               3.0         AK                Alaska      10.0   \n",
            "2               9.0         AZ               Arizona      48.0   \n",
            "3               3.0         AR              Arkansas      45.0   \n",
            "4             152.0         CA            California     172.0   \n",
            "5              21.0         CO              Colorado      60.0   \n",
            "6              25.0         CT           Connecticut      20.0   \n",
            "7               3.0         DE              Delaware       8.0   \n",
            "8               5.0         DC  District of Columbia       3.0   \n",
            "9              71.0         FL               Florida     157.0   \n",
            "\n",
            "   number abortions state_id_y  \\\n",
            "0            8020.0         AL   \n",
            "1            1470.0         AK   \n",
            "2           12870.0         AZ   \n",
            "3            4590.0         AR   \n",
            "4          157350.0         CA   \n",
            "5           13160.0         CO   \n",
            "6           13140.0         CT   \n",
            "7            3010.0         DE   \n",
            "8            5820.0         DC   \n",
            "9           75990.0         FL   \n",
            "\n",
            "  state prohibits some abortions after certain pt in pregnancy  \\\n",
            "0                                                Yes             \n",
            "1                                                 No             \n",
            "2                                                Yes             \n",
            "3                                                Yes             \n",
            "4                                                Yes             \n",
            "5                                                 No             \n",
            "6                                                Yes             \n",
            "7                                                Yes             \n",
            "8                                                 No             \n",
            "9                                                Yes             \n",
            "\n",
            "            gestational limit when is later abortion permitted  \\\n",
            "0  20 weeks postfertilization         Life and physical health   \n",
            "1                         NaN                              NaN   \n",
            "2             Fetal viability                  Life and health   \n",
            "3  20 weeks postfertilization         Life and physical health   \n",
            "4             Fetal viability                  Life and health   \n",
            "5                         NaN                              NaN   \n",
            "6             Fetal viability                  Life and health   \n",
            "7             Fetal viability                  Life and health   \n",
            "8                         NaN                              NaN   \n",
            "9                24 weeks LMP                  Life and health   \n",
            "\n",
            "  ultrasound_required  \n",
            "0                 Yes  \n",
            "1                  No  \n",
            "2                 Yes  \n",
            "3                 Yes  \n",
            "4                  No  \n",
            "5                  No  \n",
            "6                  No  \n",
            "7                  No  \n",
            "8                  No  \n",
            "9                 Yes  \n",
            "2. Retrieving last 10 records\n",
            "    number providers state_id_x          state  CPC name  number abortions  \\\n",
            "42               7.0         TN      Tennessee      54.0           13880.0   \n",
            "43              28.0         TX          Texas     180.0           55230.0   \n",
            "44               2.0         UT           Utah       6.0            2960.0   \n",
            "45               6.0         VT        Vermont       9.0            1400.0   \n",
            "46              18.0         VA       Virginia      53.0           21080.0   \n",
            "47              33.0         WA     Washington      56.0           19230.0   \n",
            "48               2.0         WV  West Virginia      20.0            2020.0   \n",
            "49               4.0         WI      Wisconsin      62.0            6050.0   \n",
            "50               1.0         WY        Wyoming      11.0             120.0   \n",
            "51               NaN        NaN  United States       NaN               NaN   \n",
            "\n",
            "   state_id_y state prohibits some abortions after certain pt in pregnancy  \\\n",
            "42         TN                                                Yes             \n",
            "43         TX                                                Yes             \n",
            "44         UT                                                Yes             \n",
            "45         VT                                                 No             \n",
            "46         VA                                                Yes             \n",
            "47         WA                                                Yes             \n",
            "48         WV                                                Yes             \n",
            "49         WI                                                Yes             \n",
            "50         WY                                                Yes             \n",
            "51        NaN                                             43 Yes             \n",
            "\n",
            "             gestational limit when is later abortion permitted  \\\n",
            "42             Fetal viability                  Life and health   \n",
            "43  20 weeks postfertilization         Life and physical health   \n",
            "44             Fetal viability                  Life and health   \n",
            "45                         NaN                              NaN   \n",
            "46           3rd trimester LMP                  Life and health   \n",
            "47             Fetal viability                  Life and health   \n",
            "48                22 weeks LMP         Life and physical health   \n",
            "49  20 weeks postfertilization                  Life and health   \n",
            "50             Fetal viability                  Life and health   \n",
            "51                         NaN                              NaN   \n",
            "\n",
            "   ultrasound_required  \n",
            "42                  No  \n",
            "43                 Yes  \n",
            "44                 Yes  \n",
            "45                  No  \n",
            "46                 Yes  \n",
            "47                  No  \n",
            "48                 Yes  \n",
            "49                 Yes  \n",
            "50                  No  \n",
            "51              26 Yes  \n",
            "3. Getting column values\n",
            "Index(['number providers', 'state_id_x', 'state', 'CPC name',\n",
            "       'number abortions', 'state_id_y',\n",
            "       'state prohibits some abortions after certain pt in pregnancy',\n",
            "       'gestational limit', 'when is later abortion permitted',\n",
            "       'ultrasound_required'],\n",
            "      dtype='object')\n",
            "['number providers', 'state_id_x', 'state', 'CPC name', 'number abortions', 'state_id_y', 'state prohibits some abortions after certain pt in pregnancy', 'gestational limit', 'when is later abortion permitted', 'ultrasound_required']\n"
          ],
          "name": "stdout"
        }
      ]
    },
    {
      "metadata": {
        "id": "3CvuVGlgUweJ",
        "colab_type": "code",
        "colab": {
          "base_uri": "https://localhost:8080/",
          "height": 165
        },
        "outputId": "b0b0d480-faf4-47cf-f449-dba522a18e0c"
      },
      "cell_type": "code",
      "source": [
        "cpcs_abs3.to_csv(\"merged_cpcs_abortion.csv\")"
      ],
      "execution_count": 131,
      "outputs": [
        {
          "output_type": "error",
          "ename": "NameError",
          "evalue": "ignored",
          "traceback": [
            "\u001b[0;31m---------------------------------------------------------------------------\u001b[0m",
            "\u001b[0;31mNameError\u001b[0m                                 Traceback (most recent call last)",
            "\u001b[0;32m<ipython-input-131-b111dacd30b1>\u001b[0m in \u001b[0;36m<module>\u001b[0;34m()\u001b[0m\n\u001b[0;32m----> 1\u001b[0;31m \u001b[0mcpcs_abs3\u001b[0m\u001b[0;34m.\u001b[0m\u001b[0mto_csv\u001b[0m\u001b[0;34m(\u001b[0m\u001b[0;34m\"merged_cpcs_abortion.csv\"\u001b[0m\u001b[0;34m)\u001b[0m\u001b[0;34m\u001b[0m\u001b[0;34m\u001b[0m\u001b[0m\n\u001b[0m",
            "\u001b[0;31mNameError\u001b[0m: name 'cpcs_abs3' is not defined"
          ]
        }
      ]
    },
    {
      "metadata": {
        "id": "Uj4haFK_X4US",
        "colab_type": "text"
      },
      "cell_type": "markdown",
      "source": [
        "### Health care coverage"
      ]
    },
    {
      "metadata": {
        "id": "E6a3sJ7u98II",
        "colab_type": "text"
      },
      "cell_type": "markdown",
      "source": [
        "### Political/demographic "
      ]
    },
    {
      "metadata": {
        "id": "_iWxM0nD5ljk",
        "colab_type": "text"
      },
      "cell_type": "markdown",
      "source": [
        "## Merging all datasets"
      ]
    },
    {
      "metadata": {
        "id": "mXoiFubkJvZA",
        "colab_type": "text"
      },
      "cell_type": "markdown",
      "source": [
        "## Cleaning up final merged dataset\n",
        "\n"
      ]
    },
    {
      "metadata": {
        "id": "z9FSBtkw5r2I",
        "colab_type": "text"
      },
      "cell_type": "markdown",
      "source": [
        "## Exporting dataset"
      ]
    }
  ]
}